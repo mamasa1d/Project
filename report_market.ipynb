{
  "cells": [
    {
      "cell_type": "markdown",
      "metadata": {
        "id": "view-in-github",
        "colab_type": "text"
      },
      "source": [
        "<a href=\"https://colab.research.google.com/github/mamasa1d/Project/blob/main/report_market.ipynb\" target=\"_parent\"><img src=\"https://colab.research.google.com/assets/colab-badge.svg\" alt=\"Open In Colab\"/></a>"
      ]
    },
    {
      "cell_type": "markdown",
      "metadata": {
        "id": "6TRrPGreHD_x"
      },
      "source": [
        "#### Прибыльные платформы"
      ]
    },
    {
      "cell_type": "code",
      "execution_count": null,
      "metadata": {
        "id": "rd7FsJuaHD_x",
        "outputId": "86ffe92e-8682-4ae3-c5c5-aba9ce10bd7f"
      },
      "outputs": [
        {
          "data": {
            "text/html": [
              "<div>\n",
              "<style scoped>\n",
              "    .dataframe tbody tr th:only-of-type {\n",
              "        vertical-align: middle;\n",
              "    }\n",
              "\n",
              "    .dataframe tbody tr th {\n",
              "        vertical-align: top;\n",
              "    }\n",
              "\n",
              "    .dataframe thead th {\n",
              "        text-align: right;\n",
              "    }\n",
              "</style>\n",
              "<table border=\"1\" class=\"dataframe\">\n",
              "  <thead>\n",
              "    <tr style=\"text-align: right;\">\n",
              "      <th></th>\n",
              "      <th>platform</th>\n",
              "      <th>sales_total</th>\n",
              "    </tr>\n",
              "  </thead>\n",
              "  <tbody>\n",
              "    <tr>\n",
              "      <th>4</th>\n",
              "      <td>PS4</td>\n",
              "      <td>314.14</td>\n",
              "    </tr>\n",
              "    <tr>\n",
              "      <th>3</th>\n",
              "      <td>PS3</td>\n",
              "      <td>288.79</td>\n",
              "    </tr>\n",
              "    <tr>\n",
              "      <th>9</th>\n",
              "      <td>X360</td>\n",
              "      <td>236.54</td>\n",
              "    </tr>\n",
              "    <tr>\n",
              "      <th>0</th>\n",
              "      <td>3DS</td>\n",
              "      <td>194.61</td>\n",
              "    </tr>\n",
              "    <tr>\n",
              "      <th>10</th>\n",
              "      <td>XOne</td>\n",
              "      <td>159.32</td>\n",
              "    </tr>\n",
              "    <tr>\n",
              "      <th>8</th>\n",
              "      <td>WiiU</td>\n",
              "      <td>82.19</td>\n",
              "    </tr>\n",
              "    <tr>\n",
              "      <th>2</th>\n",
              "      <td>PC</td>\n",
              "      <td>62.65</td>\n",
              "    </tr>\n",
              "    <tr>\n",
              "      <th>6</th>\n",
              "      <td>PSV</td>\n",
              "      <td>49.18</td>\n",
              "    </tr>\n",
              "    <tr>\n",
              "      <th>7</th>\n",
              "      <td>Wii</td>\n",
              "      <td>35.37</td>\n",
              "    </tr>\n",
              "    <tr>\n",
              "      <th>1</th>\n",
              "      <td>DS</td>\n",
              "      <td>12.55</td>\n",
              "    </tr>\n",
              "    <tr>\n",
              "      <th>5</th>\n",
              "      <td>PSP</td>\n",
              "      <td>11.19</td>\n",
              "    </tr>\n",
              "  </tbody>\n",
              "</table>\n",
              "</div>"
            ],
            "text/plain": [
              "   platform  sales_total\n",
              "4       PS4       314.14\n",
              "3       PS3       288.79\n",
              "9      X360       236.54\n",
              "0       3DS       194.61\n",
              "10     XOne       159.32\n",
              "8      WiiU        82.19\n",
              "2        PC        62.65\n",
              "6       PSV        49.18\n",
              "7       Wii        35.37\n",
              "1        DS        12.55\n",
              "5       PSP        11.19"
            ]
          },
          "execution_count": 37,
          "metadata": {},
          "output_type": "execute_result"
        }
      ],
      "source": [
        "actual_platforms = data.query('year_of_release >= 2012')\n",
        "actual_platforms_sales = (actual_platforms.groupby(['platform'],as_index = False)['sales_total'].sum()\n",
        "                                 .sort_values('sales_total',ascending = False)\n",
        "                           )\n",
        "actual_platforms_sales"
      ]
    },
    {
      "cell_type": "code",
      "execution_count": null,
      "metadata": {
        "scrolled": true,
        "id": "y5mJ7CqSHD_y",
        "outputId": "6ec382fd-803e-43ed-c48c-81ae35cb4833"
      },
      "outputs": [
        {
          "data": {
            "image/png": "[encoded data removed]",
            "text/plain": [
              "<Figure size 720x360 with 1 Axes>"
            ]
          },
          "metadata": {
            "needs_background": "light"
          },
          "output_type": "display_data"
        }
      ],
      "source": [
        "(actual_platforms_sales.plot(kind='bar',x='platform', y='sales_total',figsize=(10, 5),legend=False)\n",
        "                         .set(xlabel='Платформы', ylabel='Глобальные продажи')\n",
        ")\n",
        "plt.show()"
      ]
    },
    {
      "cell_type": "code",
      "execution_count": null,
      "metadata": {
        "id": "Z-bnzUwsHD_y",
        "outputId": "38a20a41-7660-4c7d-bd9e-818315a00637"
      },
      "outputs": [
        {
          "data": {
            "text/plain": [
              "['PS4', 'PS3', 'X360', '3DS', 'XOne', 'WiiU', 'PC', 'PSV', 'Wii', 'DS', 'PSP']"
            ]
          },
          "execution_count": 39,
          "metadata": {},
          "output_type": "execute_result"
        }
      ],
      "source": [
        "top_actual = actual_platforms_sales['platform'].tolist()\n",
        "top_actual"
      ]
    },
    {
      "cell_type": "code",
      "execution_count": null,
      "metadata": {
        "id": "xfaBpI_8HD_y",
        "outputId": "e258dec5-31d3-4174-f6da-fb53c4f79186"
      },
      "outputs": [
        {
          "data": {
            "image/png": "[encoded data removed]",
            "text/plain": [
              "<Figure size 720x360 with 1 Axes>"
            ]
          },
          "metadata": {
            "needs_background": "light"
          },
          "output_type": "display_data"
        }
      ],
      "source": [
        "for name in top_actual:\n",
        "    actual_platforms.query('platform == @name').pivot_table(index = 'year_of_release',\n",
        "                        values = 'sales_total', aggfunc = 'sum').sort_values('year_of_release',\n",
        "                                                    ascending = False)['sales_total'].plot(figsize=(10, 5), label = name)\n",
        "    \n",
        "    plt.xticks(np.arange(2012, 2017, step=1))\n",
        "    plt.xlabel('Дата релиза', labelpad = 10)\n",
        "    plt.ylabel('Продажи', labelpad = 10)\n",
        "    plt.legend()"
      ]
    },
    {
      "cell_type": "code",
      "execution_count": null,
      "metadata": {
        "id": "LGeS6kyqHD_y",
        "outputId": "6cd7a824-c308-42bf-86ae-2de8265a8f15"
      },
      "outputs": [
        {
          "data": {
            "text/html": [
              "<div>\n",
              "<style scoped>\n",
              "    .dataframe tbody tr th:only-of-type {\n",
              "        vertical-align: middle;\n",
              "    }\n",
              "\n",
              "    .dataframe tbody tr th {\n",
              "        vertical-align: top;\n",
              "    }\n",
              "\n",
              "    .dataframe thead th {\n",
              "        text-align: right;\n",
              "    }\n",
              "</style>\n",
              "<table border=\"1\" class=\"dataframe\">\n",
              "  <thead>\n",
              "    <tr style=\"text-align: right;\">\n",
              "      <th>year_of_release</th>\n",
              "      <th>platform</th>\n",
              "      <th>2012</th>\n",
              "      <th>2013</th>\n",
              "      <th>2014</th>\n",
              "      <th>2015</th>\n",
              "      <th>2016</th>\n",
              "    </tr>\n",
              "  </thead>\n",
              "  <tbody>\n",
              "    <tr>\n",
              "      <th>0</th>\n",
              "      <td>3DS</td>\n",
              "      <td>51.36</td>\n",
              "      <td>56.57</td>\n",
              "      <td>43.76</td>\n",
              "      <td>27.78</td>\n",
              "      <td>15.14</td>\n",
              "    </tr>\n",
              "    <tr>\n",
              "      <th>1</th>\n",
              "      <td>DS</td>\n",
              "      <td>11.01</td>\n",
              "      <td>1.54</td>\n",
              "      <td>NaN</td>\n",
              "      <td>NaN</td>\n",
              "      <td>NaN</td>\n",
              "    </tr>\n",
              "    <tr>\n",
              "      <th>2</th>\n",
              "      <td>PC</td>\n",
              "      <td>23.22</td>\n",
              "      <td>12.38</td>\n",
              "      <td>13.28</td>\n",
              "      <td>8.52</td>\n",
              "      <td>5.25</td>\n",
              "    </tr>\n",
              "    <tr>\n",
              "      <th>3</th>\n",
              "      <td>PS3</td>\n",
              "      <td>107.36</td>\n",
              "      <td>113.25</td>\n",
              "      <td>47.76</td>\n",
              "      <td>16.82</td>\n",
              "      <td>3.60</td>\n",
              "    </tr>\n",
              "    <tr>\n",
              "      <th>4</th>\n",
              "      <td>PS4</td>\n",
              "      <td>NaN</td>\n",
              "      <td>25.99</td>\n",
              "      <td>100.00</td>\n",
              "      <td>118.90</td>\n",
              "      <td>69.25</td>\n",
              "    </tr>\n",
              "    <tr>\n",
              "      <th>5</th>\n",
              "      <td>PSP</td>\n",
              "      <td>7.69</td>\n",
              "      <td>3.14</td>\n",
              "      <td>0.24</td>\n",
              "      <td>0.12</td>\n",
              "      <td>NaN</td>\n",
              "    </tr>\n",
              "    <tr>\n",
              "      <th>6</th>\n",
              "      <td>PSV</td>\n",
              "      <td>16.19</td>\n",
              "      <td>10.59</td>\n",
              "      <td>11.90</td>\n",
              "      <td>6.25</td>\n",
              "      <td>4.25</td>\n",
              "    </tr>\n",
              "    <tr>\n",
              "      <th>7</th>\n",
              "      <td>Wii</td>\n",
              "      <td>21.71</td>\n",
              "      <td>8.59</td>\n",
              "      <td>3.75</td>\n",
              "      <td>1.14</td>\n",
              "      <td>0.18</td>\n",
              "    </tr>\n",
              "    <tr>\n",
              "      <th>8</th>\n",
              "      <td>WiiU</td>\n",
              "      <td>17.56</td>\n",
              "      <td>21.65</td>\n",
              "      <td>22.03</td>\n",
              "      <td>16.35</td>\n",
              "      <td>4.60</td>\n",
              "    </tr>\n",
              "    <tr>\n",
              "      <th>9</th>\n",
              "      <td>X360</td>\n",
              "      <td>99.74</td>\n",
              "      <td>88.58</td>\n",
              "      <td>34.74</td>\n",
              "      <td>11.96</td>\n",
              "      <td>1.52</td>\n",
              "    </tr>\n",
              "    <tr>\n",
              "      <th>10</th>\n",
              "      <td>XOne</td>\n",
              "      <td>NaN</td>\n",
              "      <td>18.96</td>\n",
              "      <td>54.07</td>\n",
              "      <td>60.14</td>\n",
              "      <td>26.15</td>\n",
              "    </tr>\n",
              "  </tbody>\n",
              "</table>\n",
              "</div>"
            ],
            "text/plain": [
              "year_of_release platform    2012    2013    2014    2015   2016\n",
              "0                    3DS   51.36   56.57   43.76   27.78  15.14\n",
              "1                     DS   11.01    1.54     NaN     NaN    NaN\n",
              "2                     PC   23.22   12.38   13.28    8.52   5.25\n",
              "3                    PS3  107.36  113.25   47.76   16.82   3.60\n",
              "4                    PS4     NaN   25.99  100.00  118.90  69.25\n",
              "5                    PSP    7.69    3.14    0.24    0.12    NaN\n",
              "6                    PSV   16.19   10.59   11.90    6.25   4.25\n",
              "7                    Wii   21.71    8.59    3.75    1.14   0.18\n",
              "8                   WiiU   17.56   21.65   22.03   16.35   4.60\n",
              "9                   X360   99.74   88.58   34.74   11.96   1.52\n",
              "10                  XOne     NaN   18.96   54.07   60.14  26.15"
            ]
          },
          "metadata": {},
          "output_type": "display_data"
        }
      ],
      "source": [
        "sales_year_platform = (pd.pivot_table(actual_platforms , index='platform',\n",
        "                                       columns='year_of_release', values='sales_total', aggfunc='sum').reset_index())\n",
        "display(sales_year_platform)"
      ]
    },
    {
      "cell_type": "markdown",
      "metadata": {
        "id": "1Mfc0krRHD_z"
      },
      "source": [
        "Продажи падают на всех платформах, это связано с растущей популярностью мобильных игр."
      ]
    },
    {
      "cell_type": "markdown",
      "metadata": {
        "id": "6Qo-tR7XHD_z"
      },
      "source": [
        "Выводы: \n",
        "\n",
        "- Среди исследуемых нами платформ лидирующими по продажам в нашем временном промежутке были выявлены:\n",
        "PS4, PS3, X360, 3DS, XOne.\n",
        "\n",
        "- На конец 2016 года лидируют по продажам следующие платформы:\n",
        "PS4;\n",
        "Xone;\n",
        "3DS.\n",
        "Это топ-3. Потенциально прибыльных платформ.\n",
        "- Исходя из данных, количество продаж игр, выпущенных на каждую из этих платформ, снижается. Таким образом, можно сказать, что весь рынок игр падает"
      ]
    },
    {
      "cell_type": "markdown",
      "metadata": {
        "id": "uaRxTx3KHD_1"
      },
      "source": [
        "#### Влияние на продажи внутри одной популярной платформы отзывов пользователей и критиков. Посчитаем корреляцию между отзывами и продажами."
      ]
    },
    {
      "cell_type": "code",
      "execution_count": null,
      "metadata": {
        "id": "XM0mXILaHD_1",
        "outputId": "044e28d0-9945-41c7-ec39-d7362b0fa147"
      },
      "outputs": [
        {
          "data": {
            "text/html": [
              "<style  type=\"text/css\" >\n",
              "#T_753f4_row0_col0,#T_753f4_row1_col1,#T_753f4_row2_col2{\n",
              "            background-color:  #da3b46;\n",
              "            color:  #f1f1f1;\n",
              "            max-width:  100px;\n",
              "            font-size:  12pt;\n",
              "        }#T_753f4_row0_col1{\n",
              "            background-color:  #cfdbe4;\n",
              "            color:  #000000;\n",
              "            max-width:  100px;\n",
              "            font-size:  12pt;\n",
              "        }#T_753f4_row0_col2,#T_753f4_row1_col2,#T_753f4_row2_col0{\n",
              "            background-color:  #417ca8;\n",
              "            color:  #000000;\n",
              "            max-width:  100px;\n",
              "            font-size:  12pt;\n",
              "        }#T_753f4_row1_col0{\n",
              "            background-color:  #5388af;\n",
              "            color:  #000000;\n",
              "            max-width:  100px;\n",
              "            font-size:  12pt;\n",
              "        }#T_753f4_row2_col1{\n",
              "            background-color:  #c3d3df;\n",
              "            color:  #000000;\n",
              "            max-width:  100px;\n",
              "            font-size:  12pt;\n",
              "        }</style><table id=\"T_753f4_\" ><thead>    <tr>        <th class=\"blank level0\" ></th>        <th class=\"col_heading level0 col0\" >user_score</th>        <th class=\"col_heading level0 col1\" >critic_score</th>        <th class=\"col_heading level0 col2\" >sales_total</th>    </tr></thead><tbody>\n",
              "                <tr>\n",
              "                        <th id=\"T_753f4_level0_row0\" class=\"row_heading level0 row0\" >user_score</th>\n",
              "                        <td id=\"T_753f4_row0_col0\" class=\"data row0 col0\" >1.00</td>\n",
              "                        <td id=\"T_753f4_row0_col1\" class=\"data row0 col1\" >0.39</td>\n",
              "                        <td id=\"T_753f4_row0_col2\" class=\"data row0 col2\" >-0.03</td>\n",
              "            </tr>\n",
              "            <tr>\n",
              "                        <th id=\"T_753f4_level0_row1\" class=\"row_heading level0 row1\" >critic_score</th>\n",
              "                        <td id=\"T_753f4_row1_col0\" class=\"data row1 col0\" >0.39</td>\n",
              "                        <td id=\"T_753f4_row1_col1\" class=\"data row1 col1\" >1.00</td>\n",
              "                        <td id=\"T_753f4_row1_col2\" class=\"data row1 col2\" >0.35</td>\n",
              "            </tr>\n",
              "            <tr>\n",
              "                        <th id=\"T_753f4_level0_row2\" class=\"row_heading level0 row2\" >sales_total</th>\n",
              "                        <td id=\"T_753f4_row2_col0\" class=\"data row2 col0\" >-0.03</td>\n",
              "                        <td id=\"T_753f4_row2_col1\" class=\"data row2 col1\" >0.35</td>\n",
              "                        <td id=\"T_753f4_row2_col2\" class=\"data row2 col2\" >1.00</td>\n",
              "            </tr>\n",
              "    </tbody></table>"
            ],
            "text/plain": [
              "<pandas.io.formats.style.Styler at 0x7f567ada93a0>"
            ]
          },
          "execution_count": 48,
          "metadata": {},
          "output_type": "execute_result"
        }
      ],
      "source": [
        "ps4 = data.query(\"platform == 'PS4'\")\n",
        "xone = data.query(\"platform == 'XOne'\")\n",
        "ps4_f = ps4.query(f\"{critic_score_mark and user_score_mark}\")\n",
        "features = ['user_score', 'critic_score', 'sales_total']\n",
        "\n",
        "cmap=sns.diverging_palette(240, 10, as_cmap=True)\n",
        "ps4_f[features].corr().style.background_gradient(cmap, axis=1)\\\n",
        "    .set_properties(**{'max-width': '100px', 'font-size': '12pt'})\\\n",
        "    .set_precision(2)"
      ]
    },
    {
      "cell_type": "code",
      "execution_count": null,
      "metadata": {
        "id": "d0URJBusHD_1",
        "outputId": "3966cf8e-248c-497a-f2da-6a2f77bd48bb"
      },
      "outputs": [
        {
          "data": {
            "text/html": [
              "<style  type=\"text/css\" >\n",
              "#T_2cb80_row0_col0,#T_2cb80_row1_col1,#T_2cb80_row2_col2{\n",
              "            background-color:  #da3b46;\n",
              "            color:  #f1f1f1;\n",
              "            max-width:  100px;\n",
              "            font-size:  12pt;\n",
              "        }#T_2cb80_row0_col1{\n",
              "            background-color:  #a9c1d4;\n",
              "            color:  #000000;\n",
              "            max-width:  100px;\n",
              "            font-size:  12pt;\n",
              "        }#T_2cb80_row0_col2,#T_2cb80_row1_col0,#T_2cb80_row2_col0{\n",
              "            background-color:  #417ca8;\n",
              "            color:  #000000;\n",
              "            max-width:  100px;\n",
              "            font-size:  12pt;\n",
              "        }#T_2cb80_row1_col2{\n",
              "            background-color:  #6997b9;\n",
              "            color:  #000000;\n",
              "            max-width:  100px;\n",
              "            font-size:  12pt;\n",
              "        }#T_2cb80_row2_col1{\n",
              "            background-color:  #c6d5e0;\n",
              "            color:  #000000;\n",
              "            max-width:  100px;\n",
              "            font-size:  12pt;\n",
              "        }</style><table id=\"T_2cb80_\" ><thead>    <tr>        <th class=\"blank level0\" ></th>        <th class=\"col_heading level0 col0\" >user_score</th>        <th class=\"col_heading level0 col1\" >critic_score</th>        <th class=\"col_heading level0 col2\" >sales_total</th>    </tr></thead><tbody>\n",
              "                <tr>\n",
              "                        <th id=\"T_2cb80_level0_row0\" class=\"row_heading level0 row0\" >user_score</th>\n",
              "                        <td id=\"T_2cb80_row0_col0\" class=\"data row0 col0\" >1.00</td>\n",
              "                        <td id=\"T_2cb80_row0_col1\" class=\"data row0 col1\" >0.25</td>\n",
              "                        <td id=\"T_2cb80_row0_col2\" class=\"data row0 col2\" >-0.07</td>\n",
              "            </tr>\n",
              "            <tr>\n",
              "                        <th id=\"T_2cb80_level0_row1\" class=\"row_heading level0 row1\" >critic_score</th>\n",
              "                        <td id=\"T_2cb80_row1_col0\" class=\"data row1 col0\" >0.25</td>\n",
              "                        <td id=\"T_2cb80_row1_col1\" class=\"data row1 col1\" >1.00</td>\n",
              "                        <td id=\"T_2cb80_row1_col2\" class=\"data row1 col2\" >0.33</td>\n",
              "            </tr>\n",
              "            <tr>\n",
              "                        <th id=\"T_2cb80_level0_row2\" class=\"row_heading level0 row2\" >sales_total</th>\n",
              "                        <td id=\"T_2cb80_row2_col0\" class=\"data row2 col0\" >-0.07</td>\n",
              "                        <td id=\"T_2cb80_row2_col1\" class=\"data row2 col1\" >0.33</td>\n",
              "                        <td id=\"T_2cb80_row2_col2\" class=\"data row2 col2\" >1.00</td>\n",
              "            </tr>\n",
              "    </tbody></table>"
            ],
            "text/plain": [
              "<pandas.io.formats.style.Styler at 0x7f567ada9e50>"
            ]
          },
          "execution_count": 49,
          "metadata": {},
          "output_type": "execute_result"
        }
      ],
      "source": [
        "xone_f = xone.query(f\"{critic_score_mark and user_score_mark}\")\n",
        "xone_f[features].corr().style.background_gradient(cmap, axis=1)\\\n",
        "    .set_properties(**{'max-width': '100px', 'font-size': '12pt'})\\\n",
        "    .set_precision(2)"
      ]
    },
    {
      "cell_type": "code",
      "execution_count": null,
      "metadata": {
        "id": "2YOkDYIDHD_2",
        "outputId": "1133002a-f09c-4419-d413-ef23663c420e"
      },
      "outputs": [
        {
          "data": {
            "image/png": "[encoded data removed]",
            "text/plain": [
              "<Figure size 648x648 with 2 Axes>"
            ]
          },
          "metadata": {
            "needs_background": "light"
          },
          "output_type": "display_data"
        }
      ],
      "source": [
        "plt.figure(figsize=(9,9))\n",
        "sns.heatmap(data.corr(), annot=True, cmap=\"Blues\", fmt='.2f', annot_kws={'size':16});"
      ]
    },
    {
      "cell_type": "code",
      "execution_count": null,
      "metadata": {
        "id": "fOHbiu6xHD_2"
      },
      "outputs": [],
      "source": [
        "games_ps3 = data[(data['platform'] == 'PS3') & (data['user_score'] > 0)].copy()"
      ]
    },
    {
      "cell_type": "code",
      "execution_count": null,
      "metadata": {
        "id": "vFllDvydHD_2"
      },
      "outputs": [],
      "source": [
        "data_ps3_filtered = games_ps3[['sales_total' ,'critic_score', 'user_score']]"
      ]
    },
    {
      "cell_type": "code",
      "execution_count": null,
      "metadata": {
        "id": "qMwLk9zbHD_2",
        "outputId": "8dbdbc49-2409-4441-8a5d-481212cfe367"
      },
      "outputs": [
        {
          "data": {
            "image/png": "[encoded data removed]",
            "text/plain": [
              "<Figure size 72x216 with 2 Axes>"
            ]
          },
          "metadata": {
            "needs_background": "light"
          },
          "output_type": "display_data"
        }
      ],
      "source": [
        "plt.figure(figsize=(1,3))\n",
        "sns.heatmap(data_ps3_filtered.corr()[['sales_total']].sort_values(by='sales_total', ascending=False), cmap=\"Blues\", \n",
        "            annot=True, annot_kws={'size':15});"
      ]
    },
    {
      "cell_type": "markdown",
      "metadata": {
        "id": "lG4ZO65rHD_2"
      },
      "source": [
        "Согласно корреляции сильнее всего на продажи влияет оценка критиков, оценка же пользователей почти не влияет"
      ]
    },
    {
      "cell_type": "markdown",
      "metadata": {
        "id": "-xqOchOdHD_2"
      },
      "source": [
        "Взаимосвязи между отзывами пользователей и продажами нет.  \n",
        "Взаимосвязь между отзывами критиков и продажами существует, но не слишком большая.\n",
        "Корреляция не говорит о причинно-следственной связи."
      ]
    },
    {
      "cell_type": "markdown",
      "metadata": {
        "id": "DMEfrq7PHD_3"
      },
      "source": [
        "Посмотрим корреляцию для других топовых платформ:"
      ]
    },
    {
      "cell_type": "code",
      "execution_count": null,
      "metadata": {
        "id": "TNFsASeDHD_3",
        "outputId": "1b6308b2-90fe-4df2-cb14-3f7709d7cacc"
      },
      "outputs": [
        {
          "data": {
            "image/png": "[encoded data removed]",
            "text/plain": [
              "<Figure size 1080x612 with 8 Axes>"
            ]
          },
          "metadata": {
            "needs_background": "light"
          },
          "output_type": "display_data"
        }
      ],
      "source": [
        "top_platforms = ['PS4', 'PS3', 'X360', '3DS', 'XOne']\n",
        "\n",
        "rows = len(top_platforms) // 2\n",
        "cols = 2\n",
        "fig, axes = plt.subplots(rows, cols, figsize=(15,8.5))\n",
        "count = 0\n",
        "for r in range(rows):\n",
        "    for c in range(cols):\n",
        "        curr_platform = top_platforms[count]\n",
        "        df_prep = data[(data['platform'] == curr_platform) & (data['user_score'] > 0)].copy()\n",
        "        \n",
        "        df_filtered = df_prep[['sales_total' ,'critic_score', 'user_score']]\n",
        "        sns.set(font_scale=1.0)\n",
        "        ax = sns.heatmap(df_filtered.corr()[['sales_total']].sort_values(by='sales_total', ascending=False), \n",
        "                         cmap=\"Blues\", annot=True, annot_kws={'size':15}, ax=axes[r,c])\n",
        "        ax.set_title(curr_platform, fontsize=20)\n",
        "        ax.set_yticklabels(ax.get_yticklabels(), rotation=0)\n",
        "        plt.tight_layout(pad=3)\n",
        "        count += 1"
      ]
    },
    {
      "cell_type": "markdown",
      "metadata": {
        "id": "1c6It0LkHD_3"
      },
      "source": [
        "Общий вывод:\n",
        "  \n",
        "    \n",
        "- Данные по корреляции между выручкой и оценкой по платформам PS2, X360, PS3, PS и XOne более или менее совпадает с общими данными по датафрейму.\n",
        "- Выделяются Wii и DS, по которым зависимость не такая большая.\n",
        "- Есть так же платформы, где оценка критиков, согласно данных, сильнее \"определяет\" конечную выручку продукта, чем оценка пользователей. Это платформы DS, PS4 и Xone. В случае с DS полагаю, что дело в том, что приставка азиатская, большую популярность она имеет в Азии и соответственно, далеко не большая часть игроков принимает участие в оценке игр на эту платформу. \n",
        "- Про PS4 и Xone - платформы довольно новые, вполне вероятно, что пользователи пока не \"освоились\", поэтому большого количества отзывов, особенно качественных от них нет."
      ]
    },
    {
      "cell_type": "markdown",
      "metadata": {
        "id": "OruLn9SCHD_3"
      },
      "source": [
        "#### Выявим прибыльные жанры"
      ]
    },
    {
      "cell_type": "code",
      "execution_count": null,
      "metadata": {
        "id": "lbI2c5bJHD_4",
        "outputId": "f3925a99-71cb-42a0-b900-2fd952b6ee8e"
      },
      "outputs": [
        {
          "data": {
            "image/png": "[encoded data removed]",
            "text/plain": [
              "<Figure size 720x360 with 1 Axes>"
            ]
          },
          "metadata": {},
          "output_type": "display_data"
        }
      ],
      "source": [
        "(actual_platforms\n",
        "    .pivot_table(index='genre', values='sales_total')\n",
        "    .sort_values('sales_total', ascending=False)\n",
        "    .plot(kind='bar', y='sales_total', figsize=(10, 5), legend=False,title = 'Перспективные платформы')\n",
        "    .set(xlabel='Жанр', ylabel='Глобальные продажи'))\n",
        "\n",
        "plt.show()"
      ]
    },
    {
      "cell_type": "code",
      "execution_count": null,
      "metadata": {
        "id": "LsyrHfU2HD_4",
        "outputId": "c4bf4316-63bf-4d69-9dcb-d0b5bff68b52"
      },
      "outputs": [
        {
          "data": {
            "image/png": "[encoded data removed]",
            "text/plain": [
              "<Figure size 720x360 with 1 Axes>"
            ]
          },
          "metadata": {},
          "output_type": "display_data"
        }
      ],
      "source": [
        "(actual_platforms\n",
        "    .pivot_table(index='genre', values='sales_total', aggfunc='sum')\n",
        "    .sort_values('sales_total', ascending=False)\n",
        "    .plot(kind='bar', y='sales_total', figsize=(10, 5), legend=False,title = 'Все платформы с 2012 года')\n",
        "    .set(xlabel='Жанр', ylabel='Средние продажи'))\n",
        "\n",
        "plt.show()"
      ]
    },
    {
      "cell_type": "markdown",
      "metadata": {
        "id": "ghhg09LRHD_4"
      },
      "source": [
        "Вывод: При рассмотрении суммарных продаж лидерами были выявлены такие жанры как Action, Sports, Shooter, Role-Playing, Platform и Misc.\n",
        "Больше всего игр жанра Action. За ними идут игры спортивного жанра. Причем даже учитывая то, что игр жанра \"Спорт\" заметно меньше на рынке (на треть от Action), выручка от продаж у них практически одинаковая. Это значит, что спортивные игры, в среднем, стоят дороже, чем шутеры. Ну и это ожидаемо, шутеры выходят преимущественно на PC, тогда как спортивные игры - на консолях."
      ]
    },
    {
      "cell_type": "markdown",
      "metadata": {
        "id": "DUZgd01jHD_4"
      },
      "source": [
        "Далее рассмотрим более подробно в разрезе регионов."
      ]
    },
    {
      "cell_type": "code",
      "execution_count": null,
      "metadata": {
        "id": "Hofdat8_HD_4",
        "outputId": "1d0218ce-4f38-4dce-98a1-f252f455412a"
      },
      "outputs": [
        {
          "data": {
            "image/png": "[encoded data removed]",
            "text/plain": [
              "<Figure size 720x360 with 1 Axes>"
            ]
          },
          "metadata": {},
          "output_type": "display_data"
        }
      ],
      "source": [
        "(actual_platforms\n",
        "    .pivot_table(index='genre', values='sales_total', aggfunc='sum')\n",
        "    .sort_values('sales_total', ascending=False)\n",
        "    .plot(kind='bar', y='sales_total', figsize=(10, 5), legend=False,title = 'Все платформы с 2012 года')\n",
        "    .set(xlabel='Жанр', ylabel='Суммарные продажи'))\n",
        "\n",
        "plt.show()"
      ]
    },
    {
      "cell_type": "markdown",
      "metadata": {
        "id": "crRau2IPHD_4"
      },
      "source": [
        "#### Топ 5 платформ:"
      ]
    },
    {
      "cell_type": "code",
      "execution_count": null,
      "metadata": {
        "id": "sXEoidYkHD_5",
        "outputId": "e0ee0f10-9d57-47fb-addc-aee6d40d7276"
      },
      "outputs": [
        {
          "data": {
            "image/png": "[encoded data removed]",
            "text/plain": [
              "<Figure size 432x432 with 1 Axes>"
            ]
          },
          "metadata": {},
          "output_type": "display_data"
        },
        {
          "data": {
            "image/png": "[encoded data removed]",
            "text/plain": [
              "<Figure size 432x432 with 1 Axes>"
            ]
          },
          "metadata": {},
          "output_type": "display_data"
        },
        {
          "data": {
            "image/png": "[encoded data removed]",
            "text/plain": [
              "<Figure size 432x432 with 1 Axes>"
            ]
          },
          "metadata": {},
          "output_type": "display_data"
        }
      ],
      "source": [
        "for region in regions:\n",
        "    (actual_platforms.pivot_table(index='platform', values=region, aggfunc='sum')\n",
        "                .sort_values(region, ascending=False).head(5)\n",
        "                .plot(kind='pie', y=region, autopct='%1.0f%%', figsize=(6, 6), legend=False, title = region)\n",
        "                .set(ylabel='Продажи')\n",
        "    )\n",
        "    plt.show()"
      ]
    },
    {
      "cell_type": "markdown",
      "metadata": {
        "id": "e5HGRSRcHD_5"
      },
      "source": [
        "В Европе и Америке лидируют PS и Xbox.\n",
        "В Японии с 50% рынка занимает их портативная консоль 3DS."
      ]
    },
    {
      "cell_type": "markdown",
      "metadata": {
        "id": "ivNUzd4XHD_5"
      },
      "source": [
        "#### Топ 5 жанров:"
      ]
    },
    {
      "cell_type": "code",
      "execution_count": null,
      "metadata": {
        "id": "k4fDNTm1HD_5",
        "outputId": "cb15676a-5d5a-44f7-f99a-ec359577b1b8"
      },
      "outputs": [
        {
          "data": {
            "image/png": "[encoded data removed]",
            "text/plain": [
              "<Figure size 432x432 with 1 Axes>"
            ]
          },
          "metadata": {},
          "output_type": "display_data"
        },
        {
          "data": {
            "image/png": "[encoded data removed]",
            "text/plain": [
              "<Figure size 432x432 with 1 Axes>"
            ]
          },
          "metadata": {},
          "output_type": "display_data"
        },
        {
          "data": {
            "image/png": "[encoded data removed]",
            "text/plain": [
              "<Figure size 432x432 with 1 Axes>"
            ]
          },
          "metadata": {},
          "output_type": "display_data"
        }
      ],
      "source": [
        "for region in regions:\n",
        "    (actual_platforms.pivot_table(index='genre', values=region, aggfunc='sum')\n",
        "                .sort_values(region, ascending=False).head(5)\n",
        "                .plot(kind='pie', y=region, autopct='%1.0f%%', figsize=(6, 6), legend=False, title = region)\n",
        "                .set(ylabel='Продажи')\n",
        "    )\n",
        "    plt.show()"
      ]
    },
    {
      "cell_type": "markdown",
      "metadata": {
        "id": "NPzcoRkXHD_5"
      },
      "source": [
        "В Европе и Америке популярны жанры Action,Shooter и Sports.\n",
        "Япония любит РПГ и Action."
      ]
    },
    {
      "cell_type": "markdown",
      "metadata": {
        "id": "uS5eaQ08HD_5"
      },
      "source": [
        "#### Влияет ли рейтинг ESRB на продажи в отдельном регионе?"
      ]
    },
    {
      "cell_type": "code",
      "execution_count": null,
      "metadata": {
        "id": "Ejsf_H0iHD_5",
        "outputId": "c79ebf61-3551-4487-d14c-351fac4a7cb8"
      },
      "outputs": [
        {
          "data": {
            "image/png": "[encoded data removed]",
            "text/plain": [
              "<Figure size 432x432 with 1 Axes>"
            ]
          },
          "metadata": {},
          "output_type": "display_data"
        },
        {
          "data": {
            "image/png": "[encoded data removed]",
            "text/plain": [
              "<Figure size 432x432 with 1 Axes>"
            ]
          },
          "metadata": {},
          "output_type": "display_data"
        },
        {
          "data": {
            "image/png": "[encoded data removed]",
            "text/plain": [
              "<Figure size 432x432 with 1 Axes>"
            ]
          },
          "metadata": {},
          "output_type": "display_data"
        }
      ],
      "source": [
        "for region in regions:\n",
        "    (actual_platforms.pivot_table(index='rating', values=region, aggfunc='sum')\n",
        "                .sort_values(region, ascending=False).head(5)\n",
        "                .plot(kind='pie', y=region, autopct='%1.0f%%', figsize=(6, 6), legend=False, title = region)\n",
        "                .set(ylabel='Продажи')\n",
        "    )\n",
        "    plt.show()"
      ]
    },
    {
      "cell_type": "markdown",
      "metadata": {
        "id": "-2QsFSo_HD_6"
      },
      "source": [
        "#### Вывод:\n",
        "Портреты пользователей из Европы и Америки схожи.\n",
        "Лидируют платформы PS и Xbox, жанры Action,Shooter и Sports, игры с рейтингом для взрослых и для всех.\n",
        "\n",
        "У пользователей из Японии свои предпочтения.\n",
        "Лидирует консоль 3DS, жанры РПГ и Action, игры с неизвестным рейтингом и рейтингом для всех."
      ]
    },
    {
      "cell_type": "markdown",
      "metadata": {
        "id": "xtqXlNpaHD_7"
      },
      "source": [
        "### Общий вывод"
      ]
    },
    {
      "cell_type": "markdown",
      "metadata": {
        "id": "UU7oL9_SHD_7"
      },
      "source": [
        "\n",
        " - По проведенному анализу: самое сильное влияние на итоговую выручку оказывают, в большинстве случаев, оценки критиков. Оценки пользователей такое влияние не оказывают.\n",
        " - Наиболее популярные и перспективные на данный момент платформы – это PS4, PS3, X360, 3DS, XOne.\n",
        " - В среднем одна игра выпущенная на платформе приносит прибыль около 300 тысяч долларов, но есть хиты как ГТА5 которые находятся в топе продаж на всех представленных платформах и суммарная прибыль приближается к 100 млн. долларов\n",
        " - В США и Европе лучше всего продаются экшены и шутеры.\n",
        " - Больше всего продаж приходится на игры с рейтингом для взрослых и для всех.\n",
        " - Япония – отдельный рынок с уклоном в портативные консоли и ролевые игры. Объём продаж в этой стране в 2.5 раза меньше показаталей Европы и Америки.\n",
        " - Потенциально выгодно разработать игру для рынка Европы и Америки на перспективных платформах Sony PlayStation 4 и Xbox One в жанре Shooter/Action. Японский рынок имеет свою специфику по платформам и жанрам, кроме того не слишком обширен.\n",
        " - Дополнительно стоит ещё раз отметить, что у нас отсутствуют данные по самому популярному сейчас сегменту игр - это MMORPG,MMOBA, Survival а также нет данных по играм на мобильниках. Оффлайн игры уходят в прошлое.\n",
        "Онлайн игры распространяются по модели ФТП, либо месячной подписки и обычно имеют \"донат\", который приносит прибыль. Весьма вероятно по этой причине платформа PC не попадает в разряд перспективных, также может влиять фактор \"пиратства\"."
      ]
    }
  ],
  "metadata": {
    "ExecuteTimeLog": [
      {
        "duration": 582,
        "start_time": "2022-07-25T11:12:10.620Z"
      },
      {
        "duration": 40,
        "start_time": "2022-07-25T11:13:28.251Z"
      },
      {
        "duration": 76,
        "start_time": "2022-07-25T11:22:11.459Z"
      },
      {
        "duration": 5,
        "start_time": "2022-07-25T11:22:42.877Z"
      },
      {
        "duration": 1298,
        "start_time": "2022-07-25T11:23:16.795Z"
      },
      {
        "duration": 31,
        "start_time": "2022-07-25T11:23:35.269Z"
      },
      {
        "duration": 14,
        "start_time": "2022-07-25T11:23:48.715Z"
      },
      {
        "duration": 12,
        "start_time": "2022-07-25T11:25:06.146Z"
      },
      {
        "duration": 8,
        "start_time": "2022-07-25T11:25:21.490Z"
      },
      {
        "duration": 4,
        "start_time": "2022-07-25T11:26:06.450Z"
      },
      {
        "duration": 30,
        "start_time": "2022-07-25T11:26:15.848Z"
      },
      {
        "duration": 11,
        "start_time": "2022-07-25T11:30:45.679Z"
      },
      {
        "duration": 10,
        "start_time": "2022-07-25T11:31:09.801Z"
      },
      {
        "duration": 11,
        "start_time": "2022-07-25T11:33:28.200Z"
      },
      {
        "duration": 10,
        "start_time": "2022-07-25T11:34:29.104Z"
      },
      {
        "duration": 8,
        "start_time": "2022-07-25T11:36:26.054Z"
      },
      {
        "duration": 63,
        "start_time": "2022-07-25T11:41:09.221Z"
      },
      {
        "duration": 21,
        "start_time": "2022-07-25T11:41:10.338Z"
      },
      {
        "duration": 2,
        "start_time": "2022-07-25T11:41:23.410Z"
      },
      {
        "duration": 28,
        "start_time": "2022-07-25T11:41:24.360Z"
      },
      {
        "duration": 7,
        "start_time": "2022-07-25T11:41:27.060Z"
      },
      {
        "duration": 773,
        "start_time": "2022-07-25T11:41:30.000Z"
      },
      {
        "duration": 0,
        "start_time": "2022-07-25T11:41:30.775Z"
      },
      {
        "duration": 8,
        "start_time": "2022-07-25T11:41:42.460Z"
      },
      {
        "duration": 32,
        "start_time": "2022-07-25T11:43:08.800Z"
      },
      {
        "duration": 10,
        "start_time": "2022-07-25T11:48:20.611Z"
      },
      {
        "duration": 7,
        "start_time": "2022-07-25T11:48:39.510Z"
      },
      {
        "duration": 14,
        "start_time": "2022-07-25T11:51:59.145Z"
      },
      {
        "duration": 7,
        "start_time": "2022-07-25T11:52:13.279Z"
      },
      {
        "duration": 11,
        "start_time": "2022-07-25T11:56:30.041Z"
      },
      {
        "duration": 10,
        "start_time": "2022-07-25T11:57:17.700Z"
      },
      {
        "duration": 44,
        "start_time": "2022-07-25T13:24:46.555Z"
      },
      {
        "duration": 1278,
        "start_time": "2022-07-25T13:25:06.222Z"
      },
      {
        "duration": 84,
        "start_time": "2022-07-25T13:25:07.502Z"
      },
      {
        "duration": 22,
        "start_time": "2022-07-25T13:25:07.588Z"
      },
      {
        "duration": 12,
        "start_time": "2022-07-25T13:25:07.612Z"
      },
      {
        "duration": 2,
        "start_time": "2022-07-25T13:25:07.625Z"
      },
      {
        "duration": 22,
        "start_time": "2022-07-25T13:25:07.629Z"
      },
      {
        "duration": 5,
        "start_time": "2022-07-25T13:25:07.652Z"
      },
      {
        "duration": 5,
        "start_time": "2022-07-25T13:25:07.658Z"
      },
      {
        "duration": 103,
        "start_time": "2022-07-25T13:25:07.665Z"
      },
      {
        "duration": 10,
        "start_time": "2022-07-25T13:26:27.990Z"
      },
      {
        "duration": 11,
        "start_time": "2022-07-25T13:33:50.677Z"
      },
      {
        "duration": 8,
        "start_time": "2022-07-25T13:33:56.894Z"
      },
      {
        "duration": 8,
        "start_time": "2022-07-25T13:35:13.264Z"
      },
      {
        "duration": 5,
        "start_time": "2022-07-25T13:35:22.514Z"
      },
      {
        "duration": 20,
        "start_time": "2022-07-25T13:35:27.814Z"
      },
      {
        "duration": 6,
        "start_time": "2022-07-25T13:36:55.704Z"
      },
      {
        "duration": 4,
        "start_time": "2022-07-25T13:36:59.786Z"
      },
      {
        "duration": 5,
        "start_time": "2022-07-25T13:37:19.412Z"
      },
      {
        "duration": 3,
        "start_time": "2022-07-25T13:44:01.696Z"
      },
      {
        "duration": 31,
        "start_time": "2022-07-25T13:51:24.907Z"
      },
      {
        "duration": 14,
        "start_time": "2022-07-25T13:52:43.444Z"
      },
      {
        "duration": 4,
        "start_time": "2022-07-25T14:01:53.096Z"
      },
      {
        "duration": 21,
        "start_time": "2022-07-25T14:02:01.564Z"
      },
      {
        "duration": 8,
        "start_time": "2022-07-25T14:06:56.776Z"
      },
      {
        "duration": 12,
        "start_time": "2022-07-25T14:08:56.470Z"
      },
      {
        "duration": 10,
        "start_time": "2022-07-25T14:09:06.222Z"
      },
      {
        "duration": 9,
        "start_time": "2022-07-25T14:09:51.393Z"
      },
      {
        "duration": 8,
        "start_time": "2022-07-25T14:10:02.938Z"
      },
      {
        "duration": 9,
        "start_time": "2022-07-25T14:12:02.812Z"
      },
      {
        "duration": 17,
        "start_time": "2022-07-25T14:12:12.640Z"
      },
      {
        "duration": 6,
        "start_time": "2022-07-25T14:23:40.612Z"
      },
      {
        "duration": 7,
        "start_time": "2022-07-25T14:26:41.032Z"
      },
      {
        "duration": 19,
        "start_time": "2022-07-25T14:26:53.075Z"
      },
      {
        "duration": 5,
        "start_time": "2022-07-25T14:27:18.813Z"
      },
      {
        "duration": 8,
        "start_time": "2022-07-25T14:28:28.014Z"
      },
      {
        "duration": 23,
        "start_time": "2022-07-25T14:28:34.634Z"
      },
      {
        "duration": 7,
        "start_time": "2022-07-25T14:32:55.961Z"
      },
      {
        "duration": 22,
        "start_time": "2022-07-25T14:33:07.082Z"
      },
      {
        "duration": 1051,
        "start_time": "2022-07-25T14:33:40.156Z"
      },
      {
        "duration": 49,
        "start_time": "2022-07-25T14:33:41.209Z"
      },
      {
        "duration": 21,
        "start_time": "2022-07-25T14:33:41.259Z"
      },
      {
        "duration": 12,
        "start_time": "2022-07-25T14:33:41.282Z"
      },
      {
        "duration": 2,
        "start_time": "2022-07-25T14:33:41.296Z"
      },
      {
        "duration": 20,
        "start_time": "2022-07-25T14:33:41.299Z"
      },
      {
        "duration": 24,
        "start_time": "2022-07-25T14:33:41.321Z"
      },
      {
        "duration": 6,
        "start_time": "2022-07-25T14:33:41.346Z"
      },
      {
        "duration": 8,
        "start_time": "2022-07-25T14:33:41.354Z"
      },
      {
        "duration": 5,
        "start_time": "2022-07-25T14:33:41.364Z"
      },
      {
        "duration": 21,
        "start_time": "2022-07-25T14:33:41.371Z"
      },
      {
        "duration": 6,
        "start_time": "2022-07-25T14:33:41.394Z"
      },
      {
        "duration": 71,
        "start_time": "2022-07-25T14:33:41.402Z"
      },
      {
        "duration": 20,
        "start_time": "2022-07-25T14:33:41.474Z"
      },
      {
        "duration": 13,
        "start_time": "2022-07-25T14:33:41.496Z"
      },
      {
        "duration": 10,
        "start_time": "2022-07-25T14:33:41.511Z"
      },
      {
        "duration": 34,
        "start_time": "2022-07-25T14:33:41.523Z"
      },
      {
        "duration": 11,
        "start_time": "2022-07-25T14:33:41.558Z"
      },
      {
        "duration": 24,
        "start_time": "2022-07-25T14:33:41.570Z"
      },
      {
        "duration": 7,
        "start_time": "2022-07-25T14:33:41.595Z"
      },
      {
        "duration": 40,
        "start_time": "2022-07-25T14:33:41.603Z"
      },
      {
        "duration": 4,
        "start_time": "2022-07-25T14:33:41.645Z"
      },
      {
        "duration": 4,
        "start_time": "2022-07-25T14:34:45.565Z"
      },
      {
        "duration": 19,
        "start_time": "2022-07-25T14:34:52.818Z"
      },
      {
        "duration": 5,
        "start_time": "2022-07-25T14:37:32.177Z"
      },
      {
        "duration": 1512,
        "start_time": "2022-07-27T16:33:57.663Z"
      },
      {
        "duration": 193,
        "start_time": "2022-07-27T16:33:59.177Z"
      },
      {
        "duration": 26,
        "start_time": "2022-07-27T16:33:59.372Z"
      },
      {
        "duration": 16,
        "start_time": "2022-07-27T16:33:59.400Z"
      },
      {
        "duration": 16,
        "start_time": "2022-07-27T16:33:59.418Z"
      },
      {
        "duration": 26,
        "start_time": "2022-07-27T16:33:59.436Z"
      },
      {
        "duration": 12,
        "start_time": "2022-07-27T16:33:59.464Z"
      },
      {
        "duration": 16,
        "start_time": "2022-07-27T16:33:59.478Z"
      },
      {
        "duration": 11,
        "start_time": "2022-07-27T16:33:59.496Z"
      },
      {
        "duration": 40,
        "start_time": "2022-07-27T16:33:59.509Z"
      },
      {
        "duration": 6,
        "start_time": "2022-07-27T16:33:59.551Z"
      },
      {
        "duration": 39,
        "start_time": "2022-07-27T16:33:59.559Z"
      },
      {
        "duration": 26,
        "start_time": "2022-07-27T16:33:59.600Z"
      },
      {
        "duration": 15,
        "start_time": "2022-07-27T16:33:59.629Z"
      },
      {
        "duration": 18,
        "start_time": "2022-07-27T16:33:59.645Z"
      },
      {
        "duration": 3,
        "start_time": "2022-07-27T16:34:40.330Z"
      },
      {
        "duration": 71,
        "start_time": "2022-07-27T16:34:41.383Z"
      },
      {
        "duration": 23,
        "start_time": "2022-07-27T16:34:42.327Z"
      },
      {
        "duration": 15,
        "start_time": "2022-07-27T16:34:43.471Z"
      },
      {
        "duration": 4,
        "start_time": "2022-07-27T16:34:44.536Z"
      },
      {
        "duration": 25,
        "start_time": "2022-07-27T16:34:44.811Z"
      },
      {
        "duration": 11,
        "start_time": "2022-07-27T16:34:45.311Z"
      },
      {
        "duration": 9,
        "start_time": "2022-07-27T16:34:45.735Z"
      },
      {
        "duration": 6,
        "start_time": "2022-07-27T16:34:46.153Z"
      },
      {
        "duration": 25,
        "start_time": "2022-07-27T16:34:46.359Z"
      },
      {
        "duration": 7,
        "start_time": "2022-07-27T16:34:46.783Z"
      },
      {
        "duration": 38,
        "start_time": "2022-07-27T16:34:47.015Z"
      },
      {
        "duration": 18,
        "start_time": "2022-07-27T16:34:47.219Z"
      },
      {
        "duration": 12,
        "start_time": "2022-07-27T16:34:47.850Z"
      },
      {
        "duration": 10,
        "start_time": "2022-07-27T16:34:48.256Z"
      },
      {
        "duration": 19,
        "start_time": "2022-07-27T16:34:48.511Z"
      },
      {
        "duration": 8,
        "start_time": "2022-07-27T16:34:48.911Z"
      },
      {
        "duration": 28,
        "start_time": "2022-07-27T16:34:49.108Z"
      },
      {
        "duration": 10,
        "start_time": "2022-07-27T16:34:49.328Z"
      },
      {
        "duration": 5,
        "start_time": "2022-07-27T16:34:49.742Z"
      },
      {
        "duration": 5,
        "start_time": "2022-07-27T16:34:50.174Z"
      },
      {
        "duration": 12,
        "start_time": "2022-07-27T16:34:50.427Z"
      },
      {
        "duration": 6,
        "start_time": "2022-07-27T16:34:51.013Z"
      },
      {
        "duration": 6,
        "start_time": "2022-07-27T16:34:51.520Z"
      },
      {
        "duration": 11,
        "start_time": "2022-07-27T16:34:52.453Z"
      },
      {
        "duration": 5,
        "start_time": "2022-07-27T16:35:07.150Z"
      },
      {
        "duration": 6,
        "start_time": "2022-07-27T16:35:11.152Z"
      },
      {
        "duration": 5,
        "start_time": "2022-07-27T16:35:12.446Z"
      },
      {
        "duration": 11,
        "start_time": "2022-07-27T16:35:15.963Z"
      },
      {
        "duration": 10,
        "start_time": "2022-07-27T16:35:27.246Z"
      },
      {
        "duration": 11,
        "start_time": "2022-07-27T16:35:39.943Z"
      },
      {
        "duration": 10,
        "start_time": "2022-07-27T16:36:35.523Z"
      },
      {
        "duration": 10,
        "start_time": "2022-07-27T16:36:41.511Z"
      },
      {
        "duration": 3,
        "start_time": "2022-07-27T16:36:59.138Z"
      },
      {
        "duration": 6,
        "start_time": "2022-07-27T16:37:01.315Z"
      },
      {
        "duration": 14,
        "start_time": "2022-07-27T16:37:23.210Z"
      },
      {
        "duration": 17,
        "start_time": "2022-07-27T16:37:31.710Z"
      },
      {
        "duration": 230,
        "start_time": "2022-07-27T16:38:06.875Z"
      },
      {
        "duration": 160,
        "start_time": "2022-07-27T16:39:01.314Z"
      },
      {
        "duration": 16,
        "start_time": "2022-07-27T16:45:28.720Z"
      },
      {
        "duration": 5,
        "start_time": "2022-07-27T16:47:28.808Z"
      },
      {
        "duration": 16,
        "start_time": "2022-07-27T16:47:35.616Z"
      },
      {
        "duration": 16,
        "start_time": "2022-07-27T16:48:19.207Z"
      },
      {
        "duration": 336,
        "start_time": "2022-07-27T16:48:29.615Z"
      },
      {
        "duration": 285,
        "start_time": "2022-07-27T16:49:20.818Z"
      },
      {
        "duration": 6,
        "start_time": "2022-07-27T16:52:02.069Z"
      },
      {
        "duration": 1412,
        "start_time": "2022-07-28T16:29:34.112Z"
      },
      {
        "duration": 108,
        "start_time": "2022-07-28T16:29:35.527Z"
      },
      {
        "duration": 25,
        "start_time": "2022-07-28T16:29:35.637Z"
      },
      {
        "duration": 16,
        "start_time": "2022-07-28T16:29:35.664Z"
      },
      {
        "duration": 3,
        "start_time": "2022-07-28T16:29:35.682Z"
      },
      {
        "duration": 31,
        "start_time": "2022-07-28T16:29:35.687Z"
      },
      {
        "duration": 9,
        "start_time": "2022-07-28T16:29:35.721Z"
      },
      {
        "duration": 12,
        "start_time": "2022-07-28T16:29:35.732Z"
      },
      {
        "duration": 5,
        "start_time": "2022-07-28T16:29:35.746Z"
      },
      {
        "duration": 49,
        "start_time": "2022-07-28T16:29:35.754Z"
      },
      {
        "duration": 7,
        "start_time": "2022-07-28T16:29:35.804Z"
      },
      {
        "duration": 33,
        "start_time": "2022-07-28T16:29:35.813Z"
      },
      {
        "duration": 17,
        "start_time": "2022-07-28T16:29:35.848Z"
      },
      {
        "duration": 37,
        "start_time": "2022-07-28T16:29:35.867Z"
      },
      {
        "duration": 9,
        "start_time": "2022-07-28T16:29:35.905Z"
      },
      {
        "duration": 13,
        "start_time": "2022-07-28T16:29:35.916Z"
      },
      {
        "duration": 8,
        "start_time": "2022-07-28T16:29:35.931Z"
      },
      {
        "duration": 23,
        "start_time": "2022-07-28T16:29:35.941Z"
      },
      {
        "duration": 32,
        "start_time": "2022-07-28T16:29:35.966Z"
      },
      {
        "duration": 4,
        "start_time": "2022-07-28T16:29:35.999Z"
      },
      {
        "duration": 5,
        "start_time": "2022-07-28T16:29:36.005Z"
      },
      {
        "duration": 12,
        "start_time": "2022-07-28T16:29:36.012Z"
      },
      {
        "duration": 9,
        "start_time": "2022-07-28T16:29:36.025Z"
      },
      {
        "duration": 12,
        "start_time": "2022-07-28T16:29:36.035Z"
      },
      {
        "duration": 31,
        "start_time": "2022-07-28T16:29:36.049Z"
      },
      {
        "duration": 19,
        "start_time": "2022-07-28T16:29:36.082Z"
      },
      {
        "duration": 182,
        "start_time": "2022-07-28T16:29:36.103Z"
      },
      {
        "duration": 276,
        "start_time": "2022-07-28T16:29:36.288Z"
      },
      {
        "duration": 4,
        "start_time": "2022-07-28T16:29:36.566Z"
      },
      {
        "duration": 333,
        "start_time": "2022-07-28T16:29:36.572Z"
      },
      {
        "duration": 18,
        "start_time": "2022-07-28T16:37:46.059Z"
      },
      {
        "duration": 122,
        "start_time": "2022-07-28T16:38:30.202Z"
      },
      {
        "duration": 156,
        "start_time": "2022-07-28T16:39:09.980Z"
      },
      {
        "duration": 154,
        "start_time": "2022-07-28T16:39:35.379Z"
      },
      {
        "duration": 4,
        "start_time": "2022-07-28T16:41:15.828Z"
      },
      {
        "duration": 149,
        "start_time": "2022-07-28T16:44:28.693Z"
      },
      {
        "duration": 476,
        "start_time": "2022-07-28T16:44:37.809Z"
      },
      {
        "duration": 16,
        "start_time": "2022-07-28T16:54:19.460Z"
      },
      {
        "duration": 131,
        "start_time": "2022-07-28T16:58:40.416Z"
      },
      {
        "duration": 20,
        "start_time": "2022-07-28T17:00:21.147Z"
      },
      {
        "duration": 72,
        "start_time": "2022-07-28T17:11:07.589Z"
      },
      {
        "duration": 21,
        "start_time": "2022-07-28T17:13:15.572Z"
      },
      {
        "duration": 400,
        "start_time": "2022-07-28T17:14:14.375Z"
      },
      {
        "duration": 329,
        "start_time": "2022-07-28T17:24:33.893Z"
      },
      {
        "duration": 19,
        "start_time": "2022-07-28T17:39:46.908Z"
      },
      {
        "duration": 21,
        "start_time": "2022-07-28T17:41:25.940Z"
      },
      {
        "duration": 10,
        "start_time": "2022-07-28T17:42:10.907Z"
      },
      {
        "duration": 24,
        "start_time": "2022-07-28T17:42:16.807Z"
      },
      {
        "duration": 208,
        "start_time": "2022-07-28T17:47:42.165Z"
      },
      {
        "duration": 210,
        "start_time": "2022-07-28T17:50:38.475Z"
      },
      {
        "duration": 6,
        "start_time": "2022-07-28T17:59:05.793Z"
      },
      {
        "duration": 358,
        "start_time": "2022-07-28T18:02:21.571Z"
      },
      {
        "duration": 306,
        "start_time": "2022-07-28T18:02:44.845Z"
      },
      {
        "duration": 313,
        "start_time": "2022-07-28T18:07:21.170Z"
      },
      {
        "duration": 303,
        "start_time": "2022-07-28T18:11:44.025Z"
      },
      {
        "duration": 11,
        "start_time": "2022-07-28T18:16:03.921Z"
      },
      {
        "duration": 11,
        "start_time": "2022-07-28T18:16:28.246Z"
      },
      {
        "duration": 10,
        "start_time": "2022-07-28T18:16:41.087Z"
      },
      {
        "duration": 49,
        "start_time": "2022-07-28T18:17:24.646Z"
      },
      {
        "duration": 53,
        "start_time": "2022-07-28T18:17:43.331Z"
      },
      {
        "duration": 56,
        "start_time": "2022-07-28T18:17:50.223Z"
      },
      {
        "duration": 9,
        "start_time": "2022-07-28T18:18:07.222Z"
      },
      {
        "duration": 9,
        "start_time": "2022-07-28T18:18:21.925Z"
      },
      {
        "duration": 11,
        "start_time": "2022-07-28T18:18:53.470Z"
      },
      {
        "duration": 11,
        "start_time": "2022-07-28T18:19:22.849Z"
      },
      {
        "duration": 10,
        "start_time": "2022-07-28T18:20:41.325Z"
      },
      {
        "duration": 10,
        "start_time": "2022-07-28T18:20:45.006Z"
      },
      {
        "duration": 17,
        "start_time": "2022-07-28T18:20:59.092Z"
      },
      {
        "duration": 12,
        "start_time": "2022-07-28T18:21:11.510Z"
      },
      {
        "duration": 3,
        "start_time": "2022-07-28T18:22:18.724Z"
      },
      {
        "duration": 1226,
        "start_time": "2022-07-28T18:22:23.969Z"
      },
      {
        "duration": 57,
        "start_time": "2022-07-28T18:22:25.197Z"
      },
      {
        "duration": 27,
        "start_time": "2022-07-28T18:22:25.256Z"
      },
      {
        "duration": 18,
        "start_time": "2022-07-28T18:22:25.285Z"
      },
      {
        "duration": 7,
        "start_time": "2022-07-28T18:22:25.306Z"
      },
      {
        "duration": 46,
        "start_time": "2022-07-28T18:22:25.314Z"
      },
      {
        "duration": 26,
        "start_time": "2022-07-28T18:22:25.362Z"
      },
      {
        "duration": 34,
        "start_time": "2022-07-28T18:22:25.390Z"
      },
      {
        "duration": 9,
        "start_time": "2022-07-28T18:22:25.426Z"
      },
      {
        "duration": 44,
        "start_time": "2022-07-28T18:22:25.437Z"
      },
      {
        "duration": 7,
        "start_time": "2022-07-28T18:22:25.482Z"
      },
      {
        "duration": 43,
        "start_time": "2022-07-28T18:22:25.490Z"
      },
      {
        "duration": 15,
        "start_time": "2022-07-28T18:22:25.534Z"
      },
      {
        "duration": 11,
        "start_time": "2022-07-28T18:22:25.552Z"
      },
      {
        "duration": 21,
        "start_time": "2022-07-28T18:22:25.565Z"
      },
      {
        "duration": 20,
        "start_time": "2022-07-28T18:22:25.588Z"
      },
      {
        "duration": 7,
        "start_time": "2022-07-28T18:22:25.610Z"
      },
      {
        "duration": 33,
        "start_time": "2022-07-28T18:22:25.618Z"
      },
      {
        "duration": 7,
        "start_time": "2022-07-28T18:22:25.652Z"
      },
      {
        "duration": 13,
        "start_time": "2022-07-28T18:22:25.660Z"
      },
      {
        "duration": 19,
        "start_time": "2022-07-28T18:22:25.675Z"
      },
      {
        "duration": 20,
        "start_time": "2022-07-28T18:22:25.695Z"
      },
      {
        "duration": 24,
        "start_time": "2022-07-28T18:22:25.717Z"
      },
      {
        "duration": 12,
        "start_time": "2022-07-28T18:22:25.743Z"
      },
      {
        "duration": 7,
        "start_time": "2022-07-28T18:22:25.756Z"
      },
      {
        "duration": 20,
        "start_time": "2022-07-28T18:22:25.764Z"
      },
      {
        "duration": 173,
        "start_time": "2022-07-28T18:22:25.785Z"
      },
      {
        "duration": 254,
        "start_time": "2022-07-28T18:22:25.960Z"
      },
      {
        "duration": 4,
        "start_time": "2022-07-28T18:22:26.215Z"
      },
      {
        "duration": 302,
        "start_time": "2022-07-28T18:22:26.221Z"
      },
      {
        "duration": 14,
        "start_time": "2022-07-28T18:22:26.524Z"
      },
      {
        "duration": 177,
        "start_time": "2022-07-28T18:22:26.539Z"
      },
      {
        "duration": 5,
        "start_time": "2022-07-28T18:22:26.717Z"
      },
      {
        "duration": 488,
        "start_time": "2022-07-28T18:22:26.723Z"
      },
      {
        "duration": 16,
        "start_time": "2022-07-28T18:22:27.212Z"
      },
      {
        "duration": 149,
        "start_time": "2022-07-28T18:22:27.229Z"
      },
      {
        "duration": 21,
        "start_time": "2022-07-28T18:22:27.379Z"
      },
      {
        "duration": 75,
        "start_time": "2022-07-28T18:22:27.402Z"
      },
      {
        "duration": 31,
        "start_time": "2022-07-28T18:22:27.479Z"
      },
      {
        "duration": 357,
        "start_time": "2022-07-28T18:22:27.511Z"
      },
      {
        "duration": 331,
        "start_time": "2022-07-28T18:22:27.871Z"
      },
      {
        "duration": 18,
        "start_time": "2022-07-28T18:22:28.203Z"
      },
      {
        "duration": 19,
        "start_time": "2022-07-28T18:22:28.222Z"
      },
      {
        "duration": 15,
        "start_time": "2022-07-28T18:22:28.242Z"
      },
      {
        "duration": 239,
        "start_time": "2022-07-28T18:22:28.259Z"
      },
      {
        "duration": 213,
        "start_time": "2022-07-28T18:22:28.500Z"
      },
      {
        "duration": 6,
        "start_time": "2022-07-28T18:22:28.715Z"
      },
      {
        "duration": 318,
        "start_time": "2022-07-28T18:22:28.722Z"
      },
      {
        "duration": 404,
        "start_time": "2022-07-28T18:22:29.042Z"
      },
      {
        "duration": 319,
        "start_time": "2022-07-28T18:22:29.448Z"
      },
      {
        "duration": 11,
        "start_time": "2022-07-28T18:22:29.769Z"
      },
      {
        "duration": 18,
        "start_time": "2022-07-28T18:22:29.782Z"
      },
      {
        "duration": 4,
        "start_time": "2022-07-28T18:22:55.236Z"
      },
      {
        "duration": 4,
        "start_time": "2022-07-28T18:23:10.433Z"
      },
      {
        "duration": 16,
        "start_time": "2022-07-28T18:26:24.431Z"
      },
      {
        "duration": 5,
        "start_time": "2022-07-28T18:26:53.417Z"
      },
      {
        "duration": 5,
        "start_time": "2022-07-28T18:27:24.014Z"
      },
      {
        "duration": 4,
        "start_time": "2022-07-28T18:27:36.849Z"
      },
      {
        "duration": 120,
        "start_time": "2022-07-28T18:28:24.294Z"
      },
      {
        "duration": 13,
        "start_time": "2022-07-28T18:28:40.392Z"
      },
      {
        "duration": 5,
        "start_time": "2022-07-28T18:29:11.951Z"
      },
      {
        "duration": 4,
        "start_time": "2022-07-28T18:29:34.322Z"
      },
      {
        "duration": 4,
        "start_time": "2022-07-28T18:29:55.841Z"
      },
      {
        "duration": 53,
        "start_time": "2022-07-28T18:43:23.364Z"
      },
      {
        "duration": 21,
        "start_time": "2022-07-28T18:43:23.424Z"
      },
      {
        "duration": 14,
        "start_time": "2022-07-28T18:43:24.219Z"
      },
      {
        "duration": 3,
        "start_time": "2022-07-28T18:43:24.931Z"
      },
      {
        "duration": 21,
        "start_time": "2022-07-28T18:43:25.125Z"
      },
      {
        "duration": 7,
        "start_time": "2022-07-28T18:43:25.579Z"
      },
      {
        "duration": 8,
        "start_time": "2022-07-28T18:43:25.978Z"
      },
      {
        "duration": 6,
        "start_time": "2022-07-28T18:43:26.415Z"
      },
      {
        "duration": 23,
        "start_time": "2022-07-28T18:43:26.659Z"
      },
      {
        "duration": 7,
        "start_time": "2022-07-28T18:43:27.064Z"
      },
      {
        "duration": 31,
        "start_time": "2022-07-28T18:43:27.288Z"
      },
      {
        "duration": 14,
        "start_time": "2022-07-28T18:43:27.873Z"
      },
      {
        "duration": 9,
        "start_time": "2022-07-28T18:43:28.139Z"
      },
      {
        "duration": 9,
        "start_time": "2022-07-28T18:43:28.594Z"
      },
      {
        "duration": 15,
        "start_time": "2022-07-28T18:43:28.796Z"
      },
      {
        "duration": 6,
        "start_time": "2022-07-28T18:43:29.259Z"
      },
      {
        "duration": 23,
        "start_time": "2022-07-28T18:43:29.855Z"
      },
      {
        "duration": 7,
        "start_time": "2022-07-28T18:43:30.074Z"
      },
      {
        "duration": 4,
        "start_time": "2022-07-28T18:43:30.779Z"
      },
      {
        "duration": 4,
        "start_time": "2022-07-28T18:43:31.275Z"
      },
      {
        "duration": 5,
        "start_time": "2022-07-28T18:43:31.492Z"
      },
      {
        "duration": 4,
        "start_time": "2022-07-28T18:43:31.935Z"
      },
      {
        "duration": 8,
        "start_time": "2022-07-28T18:43:32.394Z"
      },
      {
        "duration": 3,
        "start_time": "2022-07-28T18:43:32.627Z"
      },
      {
        "duration": 5,
        "start_time": "2022-07-28T18:43:32.931Z"
      },
      {
        "duration": 189,
        "start_time": "2022-07-28T18:43:34.116Z"
      },
      {
        "duration": 318,
        "start_time": "2022-07-28T18:43:35.036Z"
      },
      {
        "duration": 5,
        "start_time": "2022-07-28T18:43:36.035Z"
      },
      {
        "duration": 315,
        "start_time": "2022-07-28T18:43:37.076Z"
      },
      {
        "duration": 1186,
        "start_time": "2022-07-28T19:12:45.715Z"
      },
      {
        "duration": 56,
        "start_time": "2022-07-28T19:12:46.903Z"
      },
      {
        "duration": 23,
        "start_time": "2022-07-28T19:12:46.961Z"
      },
      {
        "duration": 14,
        "start_time": "2022-07-28T19:12:46.986Z"
      },
      {
        "duration": 3,
        "start_time": "2022-07-28T19:12:47.002Z"
      },
      {
        "duration": 22,
        "start_time": "2022-07-28T19:12:47.007Z"
      },
      {
        "duration": 13,
        "start_time": "2022-07-28T19:12:47.031Z"
      },
      {
        "duration": 11,
        "start_time": "2022-07-28T19:12:47.046Z"
      },
      {
        "duration": 10,
        "start_time": "2022-07-28T19:12:47.058Z"
      },
      {
        "duration": 36,
        "start_time": "2022-07-28T19:12:47.071Z"
      },
      {
        "duration": 7,
        "start_time": "2022-07-28T19:12:47.109Z"
      },
      {
        "duration": 41,
        "start_time": "2022-07-28T19:12:47.117Z"
      },
      {
        "duration": 16,
        "start_time": "2022-07-28T19:12:47.159Z"
      },
      {
        "duration": 30,
        "start_time": "2022-07-28T19:12:47.176Z"
      },
      {
        "duration": 9,
        "start_time": "2022-07-28T19:12:47.207Z"
      },
      {
        "duration": 17,
        "start_time": "2022-07-28T19:12:47.217Z"
      },
      {
        "duration": 8,
        "start_time": "2022-07-28T19:12:47.236Z"
      },
      {
        "duration": 28,
        "start_time": "2022-07-28T19:12:47.246Z"
      },
      {
        "duration": 26,
        "start_time": "2022-07-28T19:12:47.276Z"
      },
      {
        "duration": 6,
        "start_time": "2022-07-28T19:12:47.304Z"
      },
      {
        "duration": 5,
        "start_time": "2022-07-28T19:12:47.312Z"
      },
      {
        "duration": 19,
        "start_time": "2022-07-28T19:12:47.318Z"
      },
      {
        "duration": 10,
        "start_time": "2022-07-28T19:12:47.339Z"
      },
      {
        "duration": 15,
        "start_time": "2022-07-28T19:12:47.351Z"
      },
      {
        "duration": 9,
        "start_time": "2022-07-28T19:12:47.367Z"
      },
      {
        "duration": 9,
        "start_time": "2022-07-28T19:12:47.378Z"
      },
      {
        "duration": 179,
        "start_time": "2022-07-28T19:12:47.388Z"
      },
      {
        "duration": 261,
        "start_time": "2022-07-28T19:12:47.573Z"
      },
      {
        "duration": 5,
        "start_time": "2022-07-28T19:12:47.835Z"
      },
      {
        "duration": 299,
        "start_time": "2022-07-28T19:12:47.842Z"
      },
      {
        "duration": 14,
        "start_time": "2022-07-28T19:12:48.143Z"
      },
      {
        "duration": 166,
        "start_time": "2022-07-28T19:12:48.159Z"
      },
      {
        "duration": 5,
        "start_time": "2022-07-28T19:12:48.326Z"
      },
      {
        "duration": 530,
        "start_time": "2022-07-28T19:12:48.332Z"
      },
      {
        "duration": 18,
        "start_time": "2022-07-28T19:12:48.864Z"
      },
      {
        "duration": 143,
        "start_time": "2022-07-28T19:12:48.884Z"
      },
      {
        "duration": 20,
        "start_time": "2022-07-28T19:12:49.028Z"
      },
      {
        "duration": 92,
        "start_time": "2022-07-28T19:12:49.049Z"
      },
      {
        "duration": 20,
        "start_time": "2022-07-28T19:12:49.143Z"
      },
      {
        "duration": 370,
        "start_time": "2022-07-28T19:12:49.165Z"
      },
      {
        "duration": 329,
        "start_time": "2022-07-28T19:12:49.536Z"
      },
      {
        "duration": 20,
        "start_time": "2022-07-28T19:12:49.866Z"
      },
      {
        "duration": 27,
        "start_time": "2022-07-28T19:12:49.887Z"
      },
      {
        "duration": 18,
        "start_time": "2022-07-28T19:12:49.915Z"
      },
      {
        "duration": 232,
        "start_time": "2022-07-28T19:12:49.935Z"
      },
      {
        "duration": 222,
        "start_time": "2022-07-28T19:12:50.169Z"
      },
      {
        "duration": 8,
        "start_time": "2022-07-28T19:12:50.392Z"
      },
      {
        "duration": 347,
        "start_time": "2022-07-28T19:12:50.402Z"
      },
      {
        "duration": 409,
        "start_time": "2022-07-28T19:12:50.751Z"
      },
      {
        "duration": 328,
        "start_time": "2022-07-28T19:12:51.162Z"
      },
      {
        "duration": 13,
        "start_time": "2022-07-28T19:12:51.491Z"
      },
      {
        "duration": 7,
        "start_time": "2022-07-28T19:12:51.505Z"
      },
      {
        "duration": 8,
        "start_time": "2022-07-28T19:12:51.513Z"
      },
      {
        "duration": 14,
        "start_time": "2022-07-28T19:12:51.523Z"
      },
      {
        "duration": 17,
        "start_time": "2022-07-28T19:12:51.539Z"
      },
      {
        "duration": 8,
        "start_time": "2022-07-28T19:12:51.557Z"
      },
      {
        "duration": 32,
        "start_time": "2022-07-28T19:12:51.567Z"
      },
      {
        "duration": 8,
        "start_time": "2022-07-28T19:12:51.600Z"
      },
      {
        "duration": 1199,
        "start_time": "2022-07-28T19:16:32.106Z"
      },
      {
        "duration": 56,
        "start_time": "2022-07-28T19:16:33.307Z"
      },
      {
        "duration": 23,
        "start_time": "2022-07-28T19:16:33.365Z"
      },
      {
        "duration": 14,
        "start_time": "2022-07-28T19:16:33.390Z"
      },
      {
        "duration": 2,
        "start_time": "2022-07-28T19:16:33.406Z"
      },
      {
        "duration": 22,
        "start_time": "2022-07-28T19:16:33.410Z"
      },
      {
        "duration": 8,
        "start_time": "2022-07-28T19:16:33.433Z"
      },
      {
        "duration": 10,
        "start_time": "2022-07-28T19:16:33.442Z"
      },
      {
        "duration": 5,
        "start_time": "2022-07-28T19:16:33.453Z"
      },
      {
        "duration": 60,
        "start_time": "2022-07-28T19:16:33.462Z"
      },
      {
        "duration": 9,
        "start_time": "2022-07-28T19:16:33.524Z"
      },
      {
        "duration": 36,
        "start_time": "2022-07-28T19:16:33.535Z"
      },
      {
        "duration": 37,
        "start_time": "2022-07-28T19:16:33.573Z"
      },
      {
        "duration": 8,
        "start_time": "2022-07-28T19:16:33.612Z"
      },
      {
        "duration": 9,
        "start_time": "2022-07-28T19:16:33.621Z"
      },
      {
        "duration": 18,
        "start_time": "2022-07-28T19:16:33.632Z"
      },
      {
        "duration": 13,
        "start_time": "2022-07-28T19:16:33.652Z"
      },
      {
        "duration": 57,
        "start_time": "2022-07-28T19:16:33.667Z"
      },
      {
        "duration": 8,
        "start_time": "2022-07-28T19:16:33.725Z"
      },
      {
        "duration": 4,
        "start_time": "2022-07-28T19:16:33.735Z"
      },
      {
        "duration": 9,
        "start_time": "2022-07-28T19:16:33.740Z"
      },
      {
        "duration": 8,
        "start_time": "2022-07-28T19:16:33.750Z"
      },
      {
        "duration": 11,
        "start_time": "2022-07-28T19:16:33.761Z"
      },
      {
        "duration": 30,
        "start_time": "2022-07-28T19:16:33.774Z"
      },
      {
        "duration": 7,
        "start_time": "2022-07-28T19:16:33.806Z"
      },
      {
        "duration": 12,
        "start_time": "2022-07-28T19:16:33.814Z"
      },
      {
        "duration": 208,
        "start_time": "2022-07-28T19:16:33.828Z"
      },
      {
        "duration": 251,
        "start_time": "2022-07-28T19:16:34.040Z"
      },
      {
        "duration": 7,
        "start_time": "2022-07-28T19:16:34.293Z"
      },
      {
        "duration": 362,
        "start_time": "2022-07-28T19:16:34.302Z"
      },
      {
        "duration": 16,
        "start_time": "2022-07-28T19:16:34.666Z"
      },
      {
        "duration": 177,
        "start_time": "2022-07-28T19:16:34.684Z"
      },
      {
        "duration": 4,
        "start_time": "2022-07-28T19:16:34.863Z"
      },
      {
        "duration": 536,
        "start_time": "2022-07-28T19:16:34.869Z"
      },
      {
        "duration": 21,
        "start_time": "2022-07-28T19:16:35.407Z"
      },
      {
        "duration": 154,
        "start_time": "2022-07-28T19:16:35.430Z"
      },
      {
        "duration": 29,
        "start_time": "2022-07-28T19:16:35.586Z"
      },
      {
        "duration": 83,
        "start_time": "2022-07-28T19:16:35.616Z"
      },
      {
        "duration": 22,
        "start_time": "2022-07-28T19:16:35.701Z"
      },
      {
        "duration": 374,
        "start_time": "2022-07-28T19:16:35.724Z"
      },
      {
        "duration": 341,
        "start_time": "2022-07-28T19:16:36.099Z"
      },
      {
        "duration": 18,
        "start_time": "2022-07-28T19:16:36.442Z"
      },
      {
        "duration": 23,
        "start_time": "2022-07-28T19:16:36.462Z"
      },
      {
        "duration": 19,
        "start_time": "2022-07-28T19:16:36.498Z"
      },
      {
        "duration": 232,
        "start_time": "2022-07-28T19:16:36.519Z"
      },
      {
        "duration": 217,
        "start_time": "2022-07-28T19:16:36.753Z"
      },
      {
        "duration": 6,
        "start_time": "2022-07-28T19:16:36.972Z"
      },
      {
        "duration": 343,
        "start_time": "2022-07-28T19:16:36.979Z"
      },
      {
        "duration": 409,
        "start_time": "2022-07-28T19:16:37.324Z"
      },
      {
        "duration": 320,
        "start_time": "2022-07-28T19:16:37.735Z"
      },
      {
        "duration": 11,
        "start_time": "2022-07-28T19:16:38.057Z"
      },
      {
        "duration": 9,
        "start_time": "2022-07-28T19:16:38.070Z"
      },
      {
        "duration": 5,
        "start_time": "2022-07-28T19:16:38.098Z"
      },
      {
        "duration": 10,
        "start_time": "2022-07-28T19:16:38.105Z"
      },
      {
        "duration": 20,
        "start_time": "2022-07-28T19:16:38.117Z"
      },
      {
        "duration": 9,
        "start_time": "2022-07-28T19:16:38.139Z"
      },
      {
        "duration": 6,
        "start_time": "2022-07-28T19:16:38.150Z"
      },
      {
        "duration": 5,
        "start_time": "2022-07-28T19:16:38.158Z"
      },
      {
        "duration": 1409,
        "start_time": "2022-07-29T17:22:26.222Z"
      },
      {
        "duration": 91,
        "start_time": "2022-07-29T17:22:27.633Z"
      },
      {
        "duration": 28,
        "start_time": "2022-07-29T17:22:27.726Z"
      },
      {
        "duration": 18,
        "start_time": "2022-07-29T17:22:27.755Z"
      },
      {
        "duration": 3,
        "start_time": "2022-07-29T17:22:27.775Z"
      },
      {
        "duration": 21,
        "start_time": "2022-07-29T17:22:27.780Z"
      },
      {
        "duration": 11,
        "start_time": "2022-07-29T17:22:27.803Z"
      },
      {
        "duration": 41,
        "start_time": "2022-07-29T17:22:27.816Z"
      },
      {
        "duration": 10,
        "start_time": "2022-07-29T17:22:27.859Z"
      },
      {
        "duration": 27,
        "start_time": "2022-07-29T17:22:27.871Z"
      },
      {
        "duration": 8,
        "start_time": "2022-07-29T17:22:27.899Z"
      },
      {
        "duration": 52,
        "start_time": "2022-07-29T17:22:27.909Z"
      },
      {
        "duration": 22,
        "start_time": "2022-07-29T17:22:27.963Z"
      },
      {
        "duration": 12,
        "start_time": "2022-07-29T17:22:27.989Z"
      },
      {
        "duration": 11,
        "start_time": "2022-07-29T17:22:28.003Z"
      },
      {
        "duration": 44,
        "start_time": "2022-07-29T17:22:28.015Z"
      },
      {
        "duration": 7,
        "start_time": "2022-07-29T17:22:28.062Z"
      },
      {
        "duration": 23,
        "start_time": "2022-07-29T17:22:28.071Z"
      },
      {
        "duration": 6,
        "start_time": "2022-07-29T17:22:28.095Z"
      },
      {
        "duration": 3,
        "start_time": "2022-07-29T17:22:28.103Z"
      },
      {
        "duration": 39,
        "start_time": "2022-07-29T17:22:28.108Z"
      },
      {
        "duration": 6,
        "start_time": "2022-07-29T17:22:28.152Z"
      },
      {
        "duration": 8,
        "start_time": "2022-07-29T17:22:28.160Z"
      },
      {
        "duration": 11,
        "start_time": "2022-07-29T17:22:28.170Z"
      },
      {
        "duration": 3,
        "start_time": "2022-07-29T17:22:28.183Z"
      },
      {
        "duration": 6,
        "start_time": "2022-07-29T17:22:28.188Z"
      },
      {
        "duration": 216,
        "start_time": "2022-07-29T17:22:28.196Z"
      },
      {
        "duration": 274,
        "start_time": "2022-07-29T17:22:28.413Z"
      },
      {
        "duration": 5,
        "start_time": "2022-07-29T17:22:28.689Z"
      },
      {
        "duration": 369,
        "start_time": "2022-07-29T17:22:28.696Z"
      },
      {
        "duration": 20,
        "start_time": "2022-07-29T17:22:29.067Z"
      },
      {
        "duration": 217,
        "start_time": "2022-07-29T17:22:29.089Z"
      },
      {
        "duration": 5,
        "start_time": "2022-07-29T17:22:29.307Z"
      },
      {
        "duration": 540,
        "start_time": "2022-07-29T17:22:29.314Z"
      },
      {
        "duration": 16,
        "start_time": "2022-07-29T17:22:29.856Z"
      },
      {
        "duration": 146,
        "start_time": "2022-07-29T17:22:29.874Z"
      },
      {
        "duration": 29,
        "start_time": "2022-07-29T17:22:30.021Z"
      },
      {
        "duration": 77,
        "start_time": "2022-07-29T17:22:30.052Z"
      },
      {
        "duration": 30,
        "start_time": "2022-07-29T17:22:30.142Z"
      },
      {
        "duration": 439,
        "start_time": "2022-07-29T17:22:30.174Z"
      },
      {
        "duration": 362,
        "start_time": "2022-07-29T17:22:30.616Z"
      },
      {
        "duration": 20,
        "start_time": "2022-07-29T17:22:30.980Z"
      },
      {
        "duration": 44,
        "start_time": "2022-07-29T17:22:31.002Z"
      },
      {
        "duration": 21,
        "start_time": "2022-07-29T17:22:31.050Z"
      },
      {
        "duration": 238,
        "start_time": "2022-07-29T17:22:31.073Z"
      },
      {
        "duration": 261,
        "start_time": "2022-07-29T17:22:31.313Z"
      },
      {
        "duration": 5,
        "start_time": "2022-07-29T17:22:31.576Z"
      },
      {
        "duration": 331,
        "start_time": "2022-07-29T17:22:31.583Z"
      },
      {
        "duration": 468,
        "start_time": "2022-07-29T17:22:31.916Z"
      },
      {
        "duration": 342,
        "start_time": "2022-07-29T17:22:32.386Z"
      },
      {
        "duration": 15,
        "start_time": "2022-07-29T17:22:32.740Z"
      },
      {
        "duration": 11,
        "start_time": "2022-07-29T17:22:32.757Z"
      },
      {
        "duration": 6,
        "start_time": "2022-07-29T17:22:32.770Z"
      },
      {
        "duration": 7,
        "start_time": "2022-07-29T17:22:32.778Z"
      },
      {
        "duration": 13,
        "start_time": "2022-07-29T17:22:32.786Z"
      },
      {
        "duration": 16,
        "start_time": "2022-07-29T17:22:32.801Z"
      },
      {
        "duration": 21,
        "start_time": "2022-07-29T17:22:32.819Z"
      },
      {
        "duration": 6,
        "start_time": "2022-07-29T17:22:32.846Z"
      },
      {
        "duration": 81,
        "start_time": "2022-07-29T17:48:04.639Z"
      },
      {
        "duration": 82,
        "start_time": "2022-07-29T17:57:37.061Z"
      },
      {
        "duration": 83,
        "start_time": "2022-07-29T18:02:21.914Z"
      },
      {
        "duration": 150,
        "start_time": "2022-07-29T18:36:35.566Z"
      },
      {
        "duration": 180,
        "start_time": "2022-07-29T18:36:42.125Z"
      },
      {
        "duration": 162,
        "start_time": "2022-07-29T18:36:47.746Z"
      },
      {
        "duration": 134,
        "start_time": "2022-07-29T18:36:56.487Z"
      },
      {
        "duration": 1232,
        "start_time": "2022-07-29T19:00:45.707Z"
      },
      {
        "duration": 77,
        "start_time": "2022-07-29T19:00:46.942Z"
      },
      {
        "duration": 23,
        "start_time": "2022-07-29T19:00:47.021Z"
      },
      {
        "duration": 15,
        "start_time": "2022-07-29T19:00:47.047Z"
      },
      {
        "duration": 3,
        "start_time": "2022-07-29T19:00:47.064Z"
      },
      {
        "duration": 22,
        "start_time": "2022-07-29T19:00:47.069Z"
      },
      {
        "duration": 6,
        "start_time": "2022-07-29T19:00:47.092Z"
      },
      {
        "duration": 43,
        "start_time": "2022-07-29T19:00:47.099Z"
      },
      {
        "duration": 9,
        "start_time": "2022-07-29T19:00:47.144Z"
      },
      {
        "duration": 28,
        "start_time": "2022-07-29T19:00:47.156Z"
      },
      {
        "duration": 12,
        "start_time": "2022-07-29T19:00:47.186Z"
      },
      {
        "duration": 55,
        "start_time": "2022-07-29T19:00:47.200Z"
      },
      {
        "duration": 16,
        "start_time": "2022-07-29T19:00:47.257Z"
      },
      {
        "duration": 8,
        "start_time": "2022-07-29T19:00:47.274Z"
      },
      {
        "duration": 9,
        "start_time": "2022-07-29T19:00:47.283Z"
      },
      {
        "duration": 20,
        "start_time": "2022-07-29T19:00:47.293Z"
      },
      {
        "duration": 33,
        "start_time": "2022-07-29T19:00:47.314Z"
      },
      {
        "duration": 32,
        "start_time": "2022-07-29T19:00:47.350Z"
      },
      {
        "duration": 6,
        "start_time": "2022-07-29T19:00:47.384Z"
      },
      {
        "duration": 18,
        "start_time": "2022-07-29T19:00:47.391Z"
      },
      {
        "duration": 8,
        "start_time": "2022-07-29T19:00:47.411Z"
      },
      {
        "duration": 7,
        "start_time": "2022-07-29T19:00:47.420Z"
      },
      {
        "duration": 10,
        "start_time": "2022-07-29T19:00:47.428Z"
      },
      {
        "duration": 10,
        "start_time": "2022-07-29T19:00:47.441Z"
      },
      {
        "duration": 6,
        "start_time": "2022-07-29T19:00:47.453Z"
      },
      {
        "duration": 7,
        "start_time": "2022-07-29T19:00:47.461Z"
      },
      {
        "duration": 209,
        "start_time": "2022-07-29T19:00:47.469Z"
      },
      {
        "duration": 299,
        "start_time": "2022-07-29T19:00:47.681Z"
      },
      {
        "duration": 4,
        "start_time": "2022-07-29T19:00:47.982Z"
      },
      {
        "duration": 320,
        "start_time": "2022-07-29T19:00:47.987Z"
      },
      {
        "duration": 15,
        "start_time": "2022-07-29T19:00:48.309Z"
      },
      {
        "duration": 172,
        "start_time": "2022-07-29T19:00:48.342Z"
      },
      {
        "duration": 4,
        "start_time": "2022-07-29T19:00:48.516Z"
      },
      {
        "duration": 594,
        "start_time": "2022-07-29T19:00:48.521Z"
      },
      {
        "duration": 30,
        "start_time": "2022-07-29T19:00:49.116Z"
      },
      {
        "duration": 155,
        "start_time": "2022-07-29T19:00:49.148Z"
      },
      {
        "duration": 18,
        "start_time": "2022-07-29T19:00:49.304Z"
      },
      {
        "duration": 84,
        "start_time": "2022-07-29T19:00:49.323Z"
      },
      {
        "duration": 36,
        "start_time": "2022-07-29T19:00:49.408Z"
      },
      {
        "duration": 354,
        "start_time": "2022-07-29T19:00:49.447Z"
      },
      {
        "duration": 337,
        "start_time": "2022-07-29T19:00:49.803Z"
      },
      {
        "duration": 19,
        "start_time": "2022-07-29T19:00:50.141Z"
      },
      {
        "duration": 22,
        "start_time": "2022-07-29T19:00:50.161Z"
      },
      {
        "duration": 19,
        "start_time": "2022-07-29T19:00:50.185Z"
      },
      {
        "duration": 262,
        "start_time": "2022-07-29T19:00:50.205Z"
      },
      {
        "duration": 216,
        "start_time": "2022-07-29T19:00:50.468Z"
      },
      {
        "duration": 7,
        "start_time": "2022-07-29T19:00:50.686Z"
      },
      {
        "duration": 324,
        "start_time": "2022-07-29T19:00:50.695Z"
      },
      {
        "duration": 403,
        "start_time": "2022-07-29T19:00:51.021Z"
      },
      {
        "duration": 333,
        "start_time": "2022-07-29T19:00:51.426Z"
      },
      {
        "duration": 12,
        "start_time": "2022-07-29T19:00:51.760Z"
      },
      {
        "duration": 14,
        "start_time": "2022-07-29T19:00:51.773Z"
      },
      {
        "duration": 6,
        "start_time": "2022-07-29T19:00:51.789Z"
      },
      {
        "duration": 7,
        "start_time": "2022-07-29T19:00:51.796Z"
      },
      {
        "duration": 13,
        "start_time": "2022-07-29T19:00:51.805Z"
      },
      {
        "duration": 21,
        "start_time": "2022-07-29T19:00:51.819Z"
      },
      {
        "duration": 17,
        "start_time": "2022-07-29T19:00:51.841Z"
      },
      {
        "duration": 6,
        "start_time": "2022-07-29T19:00:51.860Z"
      },
      {
        "duration": 21,
        "start_time": "2022-07-29T19:01:58.204Z"
      },
      {
        "duration": 95,
        "start_time": "2022-07-29T19:02:18.034Z"
      },
      {
        "duration": 22,
        "start_time": "2022-07-29T19:02:23.147Z"
      },
      {
        "duration": 1261,
        "start_time": "2022-08-01T18:31:27.841Z"
      },
      {
        "duration": 102,
        "start_time": "2022-08-01T18:31:29.104Z"
      },
      {
        "duration": 21,
        "start_time": "2022-08-01T18:31:29.208Z"
      },
      {
        "duration": 6,
        "start_time": "2022-08-01T18:31:29.230Z"
      },
      {
        "duration": 15,
        "start_time": "2022-08-01T18:31:29.245Z"
      },
      {
        "duration": 23,
        "start_time": "2022-08-01T18:31:29.262Z"
      },
      {
        "duration": 7,
        "start_time": "2022-08-01T18:31:29.286Z"
      },
      {
        "duration": 13,
        "start_time": "2022-08-01T18:31:29.295Z"
      },
      {
        "duration": 6,
        "start_time": "2022-08-01T18:31:29.309Z"
      },
      {
        "duration": 14,
        "start_time": "2022-08-01T18:31:29.340Z"
      },
      {
        "duration": 10,
        "start_time": "2022-08-01T18:31:29.355Z"
      },
      {
        "duration": 3,
        "start_time": "2022-08-01T18:31:29.366Z"
      },
      {
        "duration": 18,
        "start_time": "2022-08-01T18:31:29.370Z"
      },
      {
        "duration": 8,
        "start_time": "2022-08-01T18:31:29.389Z"
      },
      {
        "duration": 9,
        "start_time": "2022-08-01T18:31:29.399Z"
      },
      {
        "duration": 31,
        "start_time": "2022-08-01T18:31:29.409Z"
      },
      {
        "duration": 25,
        "start_time": "2022-08-01T18:31:29.441Z"
      },
      {
        "duration": 6,
        "start_time": "2022-08-01T18:31:29.467Z"
      },
      {
        "duration": 18,
        "start_time": "2022-08-01T18:31:29.474Z"
      },
      {
        "duration": 7,
        "start_time": "2022-08-01T18:31:29.494Z"
      },
      {
        "duration": 8,
        "start_time": "2022-08-01T18:31:29.502Z"
      },
      {
        "duration": 38,
        "start_time": "2022-08-01T18:31:29.511Z"
      },
      {
        "duration": 6,
        "start_time": "2022-08-01T18:31:29.551Z"
      },
      {
        "duration": 22,
        "start_time": "2022-08-01T18:31:29.558Z"
      },
      {
        "duration": 9,
        "start_time": "2022-08-01T18:31:29.581Z"
      },
      {
        "duration": 6,
        "start_time": "2022-08-01T18:31:29.591Z"
      },
      {
        "duration": 3,
        "start_time": "2022-08-01T18:31:29.598Z"
      },
      {
        "duration": 4,
        "start_time": "2022-08-01T18:31:29.604Z"
      },
      {
        "duration": 35,
        "start_time": "2022-08-01T18:31:29.609Z"
      },
      {
        "duration": 15,
        "start_time": "2022-08-01T18:31:29.646Z"
      },
      {
        "duration": 8,
        "start_time": "2022-08-01T18:31:29.663Z"
      },
      {
        "duration": 9,
        "start_time": "2022-08-01T18:31:29.673Z"
      },
      {
        "duration": 10,
        "start_time": "2022-08-01T18:31:29.683Z"
      },
      {
        "duration": 163,
        "start_time": "2022-08-01T18:31:29.695Z"
      },
      {
        "duration": 246,
        "start_time": "2022-08-01T18:31:29.859Z"
      },
      {
        "duration": 5,
        "start_time": "2022-08-01T18:31:30.107Z"
      },
      {
        "duration": 267,
        "start_time": "2022-08-01T18:31:30.113Z"
      },
      {
        "duration": 14,
        "start_time": "2022-08-01T18:31:30.382Z"
      },
      {
        "duration": 173,
        "start_time": "2022-08-01T18:31:30.397Z"
      },
      {
        "duration": 4,
        "start_time": "2022-08-01T18:31:30.571Z"
      },
      {
        "duration": 609,
        "start_time": "2022-08-01T18:31:30.576Z"
      },
      {
        "duration": 14,
        "start_time": "2022-08-01T18:31:31.187Z"
      },
      {
        "duration": 112,
        "start_time": "2022-08-01T18:31:31.202Z"
      },
      {
        "duration": 8,
        "start_time": "2022-08-01T18:31:31.316Z"
      },
      {
        "duration": 227,
        "start_time": "2022-08-01T18:31:31.325Z"
      },
      {
        "duration": 207,
        "start_time": "2022-08-01T18:31:31.553Z"
      },
      {
        "duration": 245,
        "start_time": "2022-08-01T18:31:31.762Z"
      },
      {
        "duration": 284,
        "start_time": "2022-08-01T18:31:32.008Z"
      },
      {
        "duration": 129,
        "start_time": "2022-08-01T18:31:32.293Z"
      },
      {
        "duration": 33,
        "start_time": "2022-08-01T18:31:32.424Z"
      },
      {
        "duration": 379,
        "start_time": "2022-08-01T18:31:32.458Z"
      },
      {
        "duration": 313,
        "start_time": "2022-08-01T18:31:32.844Z"
      },
      {
        "duration": 640,
        "start_time": "2022-08-01T18:31:33.158Z"
      },
      {
        "duration": 5,
        "start_time": "2022-08-01T18:31:33.800Z"
      },
      {
        "duration": 7,
        "start_time": "2022-08-01T18:31:33.806Z"
      },
      {
        "duration": 255,
        "start_time": "2022-08-01T18:31:33.814Z"
      },
      {
        "duration": 2491,
        "start_time": "2022-08-01T18:31:34.070Z"
      },
      {
        "duration": 16,
        "start_time": "2022-08-01T18:31:36.563Z"
      },
      {
        "duration": 90,
        "start_time": "2022-08-01T18:31:36.580Z"
      },
      {
        "duration": 13,
        "start_time": "2022-08-01T18:31:36.672Z"
      },
      {
        "duration": 198,
        "start_time": "2022-08-01T18:31:36.687Z"
      },
      {
        "duration": 194,
        "start_time": "2022-08-01T18:31:36.886Z"
      },
      {
        "duration": 242,
        "start_time": "2022-08-01T18:31:37.081Z"
      },
      {
        "duration": 24,
        "start_time": "2022-08-01T18:31:37.324Z"
      },
      {
        "duration": 286,
        "start_time": "2022-08-01T18:31:37.349Z"
      },
      {
        "duration": 316,
        "start_time": "2022-08-01T18:31:37.636Z"
      },
      {
        "duration": 330,
        "start_time": "2022-08-01T18:31:37.954Z"
      },
      {
        "duration": 9,
        "start_time": "2022-08-01T18:31:38.286Z"
      },
      {
        "duration": 3,
        "start_time": "2022-08-01T18:31:38.297Z"
      },
      {
        "duration": 11,
        "start_time": "2022-08-01T18:31:38.302Z"
      },
      {
        "duration": 30,
        "start_time": "2022-08-01T18:31:38.315Z"
      },
      {
        "duration": 10,
        "start_time": "2022-08-01T18:31:38.346Z"
      },
      {
        "duration": 5,
        "start_time": "2022-08-01T18:31:38.358Z"
      },
      {
        "duration": 198,
        "start_time": "2022-08-01T20:02:09.506Z"
      },
      {
        "duration": 207,
        "start_time": "2022-08-01T20:07:38.609Z"
      },
      {
        "duration": 252,
        "start_time": "2022-08-01T20:07:57.276Z"
      },
      {
        "duration": 186,
        "start_time": "2022-08-01T20:08:18.072Z"
      },
      {
        "duration": 5,
        "start_time": "2022-08-01T20:18:31.112Z"
      },
      {
        "duration": 1262,
        "start_time": "2022-08-04T17:34:34.464Z"
      },
      {
        "duration": 108,
        "start_time": "2022-08-04T17:34:35.728Z"
      },
      {
        "duration": 22,
        "start_time": "2022-08-04T17:34:35.838Z"
      },
      {
        "duration": 4,
        "start_time": "2022-08-04T17:34:35.862Z"
      },
      {
        "duration": 16,
        "start_time": "2022-08-04T17:34:35.867Z"
      },
      {
        "duration": 33,
        "start_time": "2022-08-04T17:34:35.884Z"
      },
      {
        "duration": 8,
        "start_time": "2022-08-04T17:34:35.919Z"
      },
      {
        "duration": 39,
        "start_time": "2022-08-04T17:34:35.929Z"
      },
      {
        "duration": 16,
        "start_time": "2022-08-04T17:34:35.970Z"
      },
      {
        "duration": 37,
        "start_time": "2022-08-04T17:34:35.989Z"
      },
      {
        "duration": 19,
        "start_time": "2022-08-04T17:34:36.029Z"
      },
      {
        "duration": 23,
        "start_time": "2022-08-04T17:34:36.049Z"
      },
      {
        "duration": 34,
        "start_time": "2022-08-04T17:34:36.074Z"
      },
      {
        "duration": 33,
        "start_time": "2022-08-04T17:34:36.110Z"
      },
      {
        "duration": 25,
        "start_time": "2022-08-04T17:34:36.145Z"
      },
      {
        "duration": 27,
        "start_time": "2022-08-04T17:34:36.172Z"
      },
      {
        "duration": 36,
        "start_time": "2022-08-04T17:34:36.201Z"
      },
      {
        "duration": 8,
        "start_time": "2022-08-04T17:34:36.239Z"
      },
      {
        "duration": 10,
        "start_time": "2022-08-04T17:34:36.248Z"
      },
      {
        "duration": 8,
        "start_time": "2022-08-04T17:34:36.259Z"
      },
      {
        "duration": 36,
        "start_time": "2022-08-04T17:34:36.268Z"
      },
      {
        "duration": 8,
        "start_time": "2022-08-04T17:34:36.305Z"
      },
      {
        "duration": 32,
        "start_time": "2022-08-04T17:34:36.315Z"
      },
      {
        "duration": 11,
        "start_time": "2022-08-04T17:34:36.348Z"
      },
      {
        "duration": 7,
        "start_time": "2022-08-04T17:34:36.361Z"
      },
      {
        "duration": 31,
        "start_time": "2022-08-04T17:34:36.370Z"
      },
      {
        "duration": 5,
        "start_time": "2022-08-04T17:34:36.403Z"
      },
      {
        "duration": 4,
        "start_time": "2022-08-04T17:34:36.412Z"
      },
      {
        "duration": 7,
        "start_time": "2022-08-04T17:34:36.417Z"
      },
      {
        "duration": 11,
        "start_time": "2022-08-04T17:34:36.425Z"
      },
      {
        "duration": 2,
        "start_time": "2022-08-04T17:34:36.438Z"
      },
      {
        "duration": 6,
        "start_time": "2022-08-04T17:34:36.442Z"
      },
      {
        "duration": 174,
        "start_time": "2022-08-04T17:34:36.449Z"
      },
      {
        "duration": 255,
        "start_time": "2022-08-04T17:34:36.625Z"
      },
      {
        "duration": 4,
        "start_time": "2022-08-04T17:34:36.881Z"
      },
      {
        "duration": 269,
        "start_time": "2022-08-04T17:34:36.887Z"
      },
      {
        "duration": 14,
        "start_time": "2022-08-04T17:34:37.157Z"
      },
      {
        "duration": 153,
        "start_time": "2022-08-04T17:34:37.172Z"
      },
      {
        "duration": 5,
        "start_time": "2022-08-04T17:34:37.326Z"
      },
      {
        "duration": 479,
        "start_time": "2022-08-04T17:34:37.333Z"
      },
      {
        "duration": 21,
        "start_time": "2022-08-04T17:34:37.813Z"
      },
      {
        "duration": 122,
        "start_time": "2022-08-04T17:34:37.836Z"
      },
      {
        "duration": 8,
        "start_time": "2022-08-04T17:34:37.959Z"
      },
      {
        "duration": 227,
        "start_time": "2022-08-04T17:34:37.968Z"
      },
      {
        "duration": 233,
        "start_time": "2022-08-04T17:34:38.197Z"
      },
      {
        "duration": 180,
        "start_time": "2022-08-04T17:34:38.432Z"
      },
      {
        "duration": 183,
        "start_time": "2022-08-04T17:34:38.614Z"
      },
      {
        "duration": 64,
        "start_time": "2022-08-04T17:34:38.799Z"
      },
      {
        "duration": 39,
        "start_time": "2022-08-04T17:34:38.865Z"
      },
      {
        "duration": 284,
        "start_time": "2022-08-04T17:34:38.906Z"
      },
      {
        "duration": 265,
        "start_time": "2022-08-04T17:34:39.192Z"
      },
      {
        "duration": 811,
        "start_time": "2022-08-04T17:34:39.459Z"
      },
      {
        "duration": 7,
        "start_time": "2022-08-04T17:34:40.272Z"
      },
      {
        "duration": 30,
        "start_time": "2022-08-04T17:34:40.281Z"
      },
      {
        "duration": 222,
        "start_time": "2022-08-04T17:34:40.313Z"
      },
      {
        "duration": 1095,
        "start_time": "2022-08-04T17:34:40.536Z"
      },
      {
        "duration": 29,
        "start_time": "2022-08-04T17:34:41.633Z"
      },
      {
        "duration": 39,
        "start_time": "2022-08-04T17:34:41.663Z"
      },
      {
        "duration": 28,
        "start_time": "2022-08-04T17:34:41.703Z"
      },
      {
        "duration": 212,
        "start_time": "2022-08-04T17:34:41.733Z"
      },
      {
        "duration": 192,
        "start_time": "2022-08-04T17:34:41.947Z"
      },
      {
        "duration": 191,
        "start_time": "2022-08-04T17:34:42.141Z"
      },
      {
        "duration": 5,
        "start_time": "2022-08-04T17:34:42.334Z"
      },
      {
        "duration": 397,
        "start_time": "2022-08-04T17:34:42.341Z"
      },
      {
        "duration": 315,
        "start_time": "2022-08-04T17:34:42.740Z"
      },
      {
        "duration": 288,
        "start_time": "2022-08-04T17:34:43.057Z"
      },
      {
        "duration": 11,
        "start_time": "2022-08-04T17:34:43.347Z"
      },
      {
        "duration": 33,
        "start_time": "2022-08-04T17:34:43.360Z"
      },
      {
        "duration": 29,
        "start_time": "2022-08-04T17:34:43.395Z"
      },
      {
        "duration": 16,
        "start_time": "2022-08-04T17:34:43.426Z"
      },
      {
        "duration": 30,
        "start_time": "2022-08-04T17:34:43.444Z"
      },
      {
        "duration": 24,
        "start_time": "2022-08-04T17:34:43.476Z"
      },
      {
        "duration": 72,
        "start_time": "2022-08-04T17:34:43.501Z"
      },
      {
        "duration": 200,
        "start_time": "2022-08-04T18:02:57.647Z"
      },
      {
        "duration": 12,
        "start_time": "2022-08-04T18:06:03.863Z"
      },
      {
        "duration": 9,
        "start_time": "2022-08-04T18:06:16.760Z"
      }
    ],
    "kernelspec": {
      "display_name": "Python 3 (ipykernel)",
      "language": "python",
      "name": "python3"
    },
    "language_info": {
      "codemirror_mode": {
        "name": "ipython",
        "version": 3
      },
      "file_extension": ".py",
      "mimetype": "text/x-python",
      "name": "python",
      "nbconvert_exporter": "python",
      "pygments_lexer": "ipython3",
      "version": "3.9.5"
    },
    "toc": {
      "base_numbering": 1,
      "nav_menu": {},
      "number_sections": true,
      "sideBar": true,
      "skip_h1_title": true,
      "title_cell": "Table of Contents",
      "title_sidebar": "Contents",
      "toc_cell": false,
      "toc_position": {
        "height": "calc(100% - 180px)",
        "left": "10px",
        "top": "150px",
        "width": "165px"
      },
      "toc_section_display": true,
      "toc_window_display": true
    },
    "colab": {
      "provenance": [],
      "include_colab_link": true
    }
  },
  "nbformat": 4,
  "nbformat_minor": 0
}